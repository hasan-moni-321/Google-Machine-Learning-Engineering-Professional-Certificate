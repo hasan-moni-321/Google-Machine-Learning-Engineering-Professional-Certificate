{
 "cells": [
  {
   "cell_type": "markdown",
   "metadata": {},
   "source": [
    "# Introducing the Keras Functional API\n",
    "\n",
    "**Learning Objectives**\n",
    "  1. Understand embeddings and how to create them with the feature column API\n",
    "  1. Understand Deep and Wide models and when to use them\n",
    "  1. Understand the Keras functional API and how to build a deep and wide model with it\n",
    "\n",
    "## Introduction\n",
    "\n",
    "In the last notebook, we learned about the Keras Sequential API. The [Keras Functional API](https://www.tensorflow.org/guide/keras#functional_api) provides an alternate way of building models which is more flexible. With the Functional API, we can build models with more complex topologies, multiple input or output layers, shared layers or non-sequential data flows (e.g. residual layers).\n",
    "\n",
    "In this notebook we'll use what we learned about feature columns to build a Wide & Deep model. Recall, that the idea behind Wide & Deep models is to join the two methods of learning through memorization and generalization by making a wide linear model and a deep learning model to accommodate both. You can have a look at the original research paper here: [Wide & Deep Learning for Recommender Systems](https://arxiv.org/abs/1606.07792).\n",
    "\n",
    "<img src='assets/wide_deep.png' width='80%'>\n",
    "<sup>(image: https://ai.googleblog.com/2016/06/wide-deep-learning-better-together-with.html)</sup>\n",
    "\n",
    "The Wide part of the model is associated with the memory element. In this case, we train a linear model with a wide set of crossed features and learn the correlation of this related data with the assigned label. The Deep part of the model is associated with the generalization element where we use embedding vectors for features. The best embeddings are then learned through the training process. While both of these methods can work well alone, Wide & Deep models excel by combining these techniques together.\n",
    "\n",
    "Each learning objective will correspond to a __#TODO__  in this student lab notebook -- try to complete this notebook first and then review the [solution notebook](https://github.com/GoogleCloudPlatform/training-data-analyst/blob/master/courses/machine_learning/deepdive2/introduction_to_tensorflow/solutions/4_keras_functional_api.ipynb)\n"
   ]
  },
  {
   "cell_type": "code",
   "execution_count": 1,
   "metadata": {},
   "outputs": [],
   "source": [
    "# Use the chown command to change the ownership of the repository.\n",
    "!sudo chown -R jupyter:jupyter /home/jupyter/training-data-analyst"
   ]
  },
  {
   "cell_type": "code",
   "execution_count": 2,
   "metadata": {},
   "outputs": [
    {
     "name": "stdout",
     "output_type": "stream",
     "text": [
      "Requirement already satisfied: tensorflow==2.5.0 in /opt/conda/lib/python3.7/site-packages (2.5.0)\n",
      "Requirement already satisfied: opt-einsum~=3.3.0 in /opt/conda/lib/python3.7/site-packages (from tensorflow==2.5.0) (3.3.0)\n",
      "Requirement already satisfied: tensorboard~=2.5 in /opt/conda/lib/python3.7/site-packages (from tensorflow==2.5.0) (2.5.0)\n",
      "Requirement already satisfied: wrapt~=1.12.1 in /opt/conda/lib/python3.7/site-packages (from tensorflow==2.5.0) (1.12.1)\n",
      "Requirement already satisfied: protobuf>=3.9.2 in /opt/conda/lib/python3.7/site-packages (from tensorflow==2.5.0) (3.16.0)\n",
      "Requirement already satisfied: numpy~=1.19.2 in /opt/conda/lib/python3.7/site-packages (from tensorflow==2.5.0) (1.19.5)\n",
      "Requirement already satisfied: keras-preprocessing~=1.1.2 in /opt/conda/lib/python3.7/site-packages (from tensorflow==2.5.0) (1.1.2)\n",
      "Requirement already satisfied: termcolor~=1.1.0 in /opt/conda/lib/python3.7/site-packages (from tensorflow==2.5.0) (1.1.0)\n",
      "Requirement already satisfied: astunparse~=1.6.3 in /opt/conda/lib/python3.7/site-packages (from tensorflow==2.5.0) (1.6.3)\n",
      "Requirement already satisfied: wheel~=0.35 in /opt/conda/lib/python3.7/site-packages (from tensorflow==2.5.0) (0.36.2)\n",
      "Collecting grpcio~=1.34.0\n",
      "  Downloading grpcio-1.34.1-cp37-cp37m-manylinux2014_x86_64.whl (4.0 MB)\n",
      "\u001b[K     |████████████████████████████████| 4.0 MB 7.7 MB/s eta 0:00:01\n",
      "\u001b[?25hCollecting typing-extensions~=3.7.4\n",
      "  Downloading typing_extensions-3.7.4.3-py3-none-any.whl (22 kB)\n",
      "Requirement already satisfied: gast==0.4.0 in /opt/conda/lib/python3.7/site-packages (from tensorflow==2.5.0) (0.4.0)\n",
      "Requirement already satisfied: tensorflow-estimator<2.6.0,>=2.5.0rc0 in /opt/conda/lib/python3.7/site-packages (from tensorflow==2.5.0) (2.5.0)\n",
      "Requirement already satisfied: h5py~=3.1.0 in /opt/conda/lib/python3.7/site-packages (from tensorflow==2.5.0) (3.1.0)\n",
      "Requirement already satisfied: flatbuffers~=1.12.0 in /opt/conda/lib/python3.7/site-packages (from tensorflow==2.5.0) (1.12)\n",
      "Requirement already satisfied: google-pasta~=0.2 in /opt/conda/lib/python3.7/site-packages (from tensorflow==2.5.0) (0.2.0)\n",
      "Requirement already satisfied: absl-py~=0.10 in /opt/conda/lib/python3.7/site-packages (from tensorflow==2.5.0) (0.13.0)\n",
      "Collecting six~=1.15.0\n",
      "  Downloading six-1.15.0-py2.py3-none-any.whl (10 kB)\n",
      "Requirement already satisfied: keras-nightly~=2.5.0.dev in /opt/conda/lib/python3.7/site-packages (from tensorflow==2.5.0) (2.5.0.dev2021032900)\n",
      "Requirement already satisfied: cached-property in /opt/conda/lib/python3.7/site-packages (from h5py~=3.1.0->tensorflow==2.5.0) (1.5.2)\n",
      "Requirement already satisfied: google-auth-oauthlib<0.5,>=0.4.1 in /opt/conda/lib/python3.7/site-packages (from tensorboard~=2.5->tensorflow==2.5.0) (0.4.5)\n",
      "Requirement already satisfied: tensorboard-data-server<0.7.0,>=0.6.0 in /opt/conda/lib/python3.7/site-packages (from tensorboard~=2.5->tensorflow==2.5.0) (0.6.1)\n",
      "Requirement already satisfied: werkzeug>=0.11.15 in /opt/conda/lib/python3.7/site-packages (from tensorboard~=2.5->tensorflow==2.5.0) (2.0.1)\n",
      "Requirement already satisfied: setuptools>=41.0.0 in /opt/conda/lib/python3.7/site-packages (from tensorboard~=2.5->tensorflow==2.5.0) (49.6.0.post20210108)\n",
      "Requirement already satisfied: tensorboard-plugin-wit>=1.6.0 in /opt/conda/lib/python3.7/site-packages (from tensorboard~=2.5->tensorflow==2.5.0) (1.8.0)\n",
      "Requirement already satisfied: requests<3,>=2.21.0 in /opt/conda/lib/python3.7/site-packages (from tensorboard~=2.5->tensorflow==2.5.0) (2.25.1)\n",
      "Requirement already satisfied: markdown>=2.6.8 in /opt/conda/lib/python3.7/site-packages (from tensorboard~=2.5->tensorflow==2.5.0) (3.3.4)\n",
      "Requirement already satisfied: google-auth<2,>=1.6.3 in /opt/conda/lib/python3.7/site-packages (from tensorboard~=2.5->tensorflow==2.5.0) (1.34.0)\n",
      "Requirement already satisfied: rsa<5,>=3.1.4 in /opt/conda/lib/python3.7/site-packages (from google-auth<2,>=1.6.3->tensorboard~=2.5->tensorflow==2.5.0) (4.7.2)\n",
      "Requirement already satisfied: pyasn1-modules>=0.2.1 in /opt/conda/lib/python3.7/site-packages (from google-auth<2,>=1.6.3->tensorboard~=2.5->tensorflow==2.5.0) (0.2.7)\n",
      "Requirement already satisfied: cachetools<5.0,>=2.0.0 in /opt/conda/lib/python3.7/site-packages (from google-auth<2,>=1.6.3->tensorboard~=2.5->tensorflow==2.5.0) (4.2.2)\n",
      "Requirement already satisfied: requests-oauthlib>=0.7.0 in /opt/conda/lib/python3.7/site-packages (from google-auth-oauthlib<0.5,>=0.4.1->tensorboard~=2.5->tensorflow==2.5.0) (1.3.0)\n",
      "Requirement already satisfied: importlib-metadata in /opt/conda/lib/python3.7/site-packages (from markdown>=2.6.8->tensorboard~=2.5->tensorflow==2.5.0) (4.6.3)\n",
      "Requirement already satisfied: pyasn1<0.5.0,>=0.4.6 in /opt/conda/lib/python3.7/site-packages (from pyasn1-modules>=0.2.1->google-auth<2,>=1.6.3->tensorboard~=2.5->tensorflow==2.5.0) (0.4.8)\n",
      "Requirement already satisfied: chardet<5,>=3.0.2 in /opt/conda/lib/python3.7/site-packages (from requests<3,>=2.21.0->tensorboard~=2.5->tensorflow==2.5.0) (4.0.0)\n",
      "Requirement already satisfied: certifi>=2017.4.17 in /opt/conda/lib/python3.7/site-packages (from requests<3,>=2.21.0->tensorboard~=2.5->tensorflow==2.5.0) (2021.5.30)\n",
      "Requirement already satisfied: idna<3,>=2.5 in /opt/conda/lib/python3.7/site-packages (from requests<3,>=2.21.0->tensorboard~=2.5->tensorflow==2.5.0) (2.10)\n",
      "Requirement already satisfied: urllib3<1.27,>=1.21.1 in /opt/conda/lib/python3.7/site-packages (from requests<3,>=2.21.0->tensorboard~=2.5->tensorflow==2.5.0) (1.26.6)\n",
      "Requirement already satisfied: oauthlib>=3.0.0 in /opt/conda/lib/python3.7/site-packages (from requests-oauthlib>=0.7.0->google-auth-oauthlib<0.5,>=0.4.1->tensorboard~=2.5->tensorflow==2.5.0) (3.1.1)\n",
      "Requirement already satisfied: zipp>=0.5 in /opt/conda/lib/python3.7/site-packages (from importlib-metadata->markdown>=2.6.8->tensorboard~=2.5->tensorflow==2.5.0) (3.5.0)\n",
      "Installing collected packages: typing-extensions, six, grpcio\n",
      "  Attempting uninstall: typing-extensions\n",
      "    Found existing installation: typing-extensions 3.10.0.0\n",
      "    Uninstalling typing-extensions-3.10.0.0:\n",
      "      Successfully uninstalled typing-extensions-3.10.0.0\n",
      "  Attempting uninstall: six\n",
      "    Found existing installation: six 1.16.0\n",
      "    Uninstalling six-1.16.0:\n",
      "      Successfully uninstalled six-1.16.0\n",
      "  Attempting uninstall: grpcio\n",
      "    Found existing installation: grpcio 1.38.1\n",
      "    Uninstalling grpcio-1.38.1:\n",
      "      Successfully uninstalled grpcio-1.38.1\n",
      "\u001b[31mERROR: pip's dependency resolver does not currently take into account all the packages that are installed. This behaviour is the source of the following dependency conflicts.\n",
      "tensorflow-io 0.18.0 requires tensorflow-io-gcs-filesystem==0.18.0, which is not installed.\n",
      "tensorflow-transform 1.2.0 requires absl-py<0.13,>=0.9, but you have absl-py 0.13.0 which is incompatible.\n",
      "tensorflow-transform 1.2.0 requires google-cloud-bigquery<2.21,>=1.28.0, but you have google-cloud-bigquery 2.23.2 which is incompatible.\n",
      "tensorflow-transform 1.2.0 requires pyarrow<3,>=1, but you have pyarrow 5.0.0 which is incompatible.\n",
      "google-cloud-bigquery 2.23.2 requires grpcio<2.0dev,>=1.38.1, but you have grpcio 1.34.1 which is incompatible.\n",
      "cloud-tpu-client 0.10 requires google-api-python-client==1.8.0, but you have google-api-python-client 2.15.0 which is incompatible.\n",
      "apache-beam 2.31.0 requires dill<0.3.2,>=0.3.1.1, but you have dill 0.3.4 which is incompatible.\n",
      "apache-beam 2.31.0 requires pyarrow<5.0.0,>=0.15.1, but you have pyarrow 5.0.0 which is incompatible.\u001b[0m\n",
      "Successfully installed grpcio-1.34.1 six-1.15.0 typing-extensions-3.7.4.3\n"
     ]
    }
   ],
   "source": [
    "# Ensure the right version of Tensorflow is installed.\n",
    "!pip freeze | grep tensorflow==2.5.0 || pip install tensorflow==2.5.0"
   ]
  },
  {
   "cell_type": "markdown",
   "metadata": {},
   "source": [
    "Kindly ignore the deprecation warnings and incompatibility errors."
   ]
  },
  {
   "cell_type": "code",
   "execution_count": 3,
   "metadata": {},
   "outputs": [
    {
     "name": "stdout",
     "output_type": "stream",
     "text": [
      "Collecting numpy==1.21.0\n",
      "  Downloading numpy-1.21.0-cp37-cp37m-manylinux_2_12_x86_64.manylinux2010_x86_64.whl (15.7 MB)\n",
      "\u001b[K     |████████████████████████████████| 15.7 MB 6.8 MB/s eta 0:00:01███▊                | 7.7 MB 6.8 MB/s eta 0:00:02\n",
      "\u001b[?25hInstalling collected packages: numpy\n",
      "  Attempting uninstall: numpy\n",
      "    Found existing installation: numpy 1.19.5\n",
      "    Uninstalling numpy-1.19.5:\n",
      "      Successfully uninstalled numpy-1.19.5\n",
      "\u001b[31mERROR: pip's dependency resolver does not currently take into account all the packages that are installed. This behaviour is the source of the following dependency conflicts.\n",
      "tensorflow-io 0.18.0 requires tensorflow-io-gcs-filesystem==0.18.0, which is not installed.\n",
      "tfx-bsl 1.2.0 requires absl-py<0.13,>=0.9, but you have absl-py 0.13.0 which is incompatible.\n",
      "tfx-bsl 1.2.0 requires google-api-python-client<2,>=1.7.11, but you have google-api-python-client 2.15.0 which is incompatible.\n",
      "tfx-bsl 1.2.0 requires google-cloud-bigquery<2.21,>=1.28.0, but you have google-cloud-bigquery 2.23.2 which is incompatible.\n",
      "tfx-bsl 1.2.0 requires numpy<1.20,>=1.16, but you have numpy 1.21.0 which is incompatible.\n",
      "tfx-bsl 1.2.0 requires pyarrow<3,>=1, but you have pyarrow 5.0.0 which is incompatible.\n",
      "tensorflow 2.5.0 requires numpy~=1.19.2, but you have numpy 1.21.0 which is incompatible.\n",
      "tensorflow-transform 1.2.0 requires absl-py<0.13,>=0.9, but you have absl-py 0.13.0 which is incompatible.\n",
      "tensorflow-transform 1.2.0 requires google-cloud-bigquery<2.21,>=1.28.0, but you have google-cloud-bigquery 2.23.2 which is incompatible.\n",
      "tensorflow-transform 1.2.0 requires numpy<1.20,>=1.16, but you have numpy 1.21.0 which is incompatible.\n",
      "tensorflow-transform 1.2.0 requires pyarrow<3,>=1, but you have pyarrow 5.0.0 which is incompatible.\n",
      "apache-beam 2.31.0 requires dill<0.3.2,>=0.3.1.1, but you have dill 0.3.4 which is incompatible.\n",
      "apache-beam 2.31.0 requires numpy<1.21.0,>=1.14.3, but you have numpy 1.21.0 which is incompatible.\n",
      "apache-beam 2.31.0 requires pyarrow<5.0.0,>=0.15.1, but you have pyarrow 5.0.0 which is incompatible.\u001b[0m\n",
      "Successfully installed numpy-1.21.0\n"
     ]
    }
   ],
   "source": [
    "# Install the required numpy version.\n",
    "!pip install numpy==1.21.0"
   ]
  },
  {
   "cell_type": "markdown",
   "metadata": {},
   "source": [
    "Kindly ignore the deprecation warnings and incompatibility errors."
   ]
  },
  {
   "cell_type": "markdown",
   "metadata": {},
   "source": [
    "Start by importing the necessary libraries for this lab."
   ]
  },
  {
   "cell_type": "code",
   "execution_count": 4,
   "metadata": {},
   "outputs": [
    {
     "name": "stdout",
     "output_type": "stream",
     "text": [
      "2.5.0\n"
     ]
    }
   ],
   "source": [
    "import datetime\n",
    "import os\n",
    "import shutil\n",
    "\n",
    "import numpy as np\n",
    "import pandas as pd\n",
    "import tensorflow as tf\n",
    "\n",
    "from matplotlib import pyplot as plt\n",
    "from tensorflow import keras\n",
    "\n",
    "from tensorflow import feature_column as fc\n",
    "\n",
    "from tensorflow.keras import Model\n",
    "from tensorflow.keras.layers import (\n",
    "    Input, Dense, DenseFeatures, concatenate)\n",
    "from tensorflow.keras.callbacks import TensorBoard\n",
    "\n",
    "print(tf.__version__)"
   ]
  },
  {
   "cell_type": "code",
   "execution_count": 5,
   "metadata": {},
   "outputs": [],
   "source": [
    "%matplotlib inline"
   ]
  },
  {
   "cell_type": "markdown",
   "metadata": {},
   "source": [
    "## Load raw data \n",
    "\n",
    "We will use the taxifare dataset, using the CSV files that we created in the first notebook of this sequence. Those files have been saved into `../data`."
   ]
  },
  {
   "cell_type": "code",
   "execution_count": 6,
   "metadata": {},
   "outputs": [
    {
     "name": "stdout",
     "output_type": "stream",
     "text": [
      "-rw-r--r-- 1 jupyter jupyter 123590 Sep  1 10:56 ../data/taxi-test.csv\n",
      "-rw-r--r-- 1 jupyter jupyter 579055 Sep  1 10:56 ../data/taxi-train.csv\n",
      "-rw-r--r-- 1 jupyter jupyter 123114 Sep  1 10:56 ../data/taxi-valid.csv\n"
     ]
    }
   ],
   "source": [
    "!ls -l ../data/*.csv"
   ]
  },
  {
   "cell_type": "markdown",
   "metadata": {},
   "source": [
    "## Use tf.data to read the CSV files\n",
    "\n",
    "We wrote these functions for reading data from the csv files above in the [previous notebook](2_dataset_api.ipynb). For this lab we will also include some additional engineered features in our model. In particular, we will compute the difference in latitude and longitude, as well as the Euclidean distance between the pick-up and drop-off locations. We can accomplish this by adding these new features to the features dictionary with the function `add_engineered_features` below. \n",
    "\n",
    "Note that we include a call to this function when collecting our features dict and labels in the `features_and_labels` function below as well. "
   ]
  },
  {
   "cell_type": "code",
   "execution_count": 7,
   "metadata": {},
   "outputs": [],
   "source": [
    "CSV_COLUMNS = [\n",
    "    'fare_amount',\n",
    "    'pickup_datetime',\n",
    "    'pickup_longitude',\n",
    "    'pickup_latitude',\n",
    "    'dropoff_longitude',\n",
    "    'dropoff_latitude',\n",
    "    'passenger_count',\n",
    "    'key'\n",
    "]\n",
    "LABEL_COLUMN = 'fare_amount'\n",
    "DEFAULTS = [[0.0], ['na'], [0.0], [0.0], [0.0], [0.0], [0.0], ['na']]\n",
    "UNWANTED_COLS = ['pickup_datetime', 'key']\n",
    "\n",
    "\n",
    "def features_and_labels(row_data):\n",
    "    label = row_data.pop(LABEL_COLUMN)\n",
    "    features = row_data\n",
    "        \n",
    "    for unwanted_col in UNWANTED_COLS:\n",
    "        features.pop(unwanted_col)\n",
    "\n",
    "    return features, label\n",
    "\n",
    "\n",
    "def create_dataset(pattern, batch_size=1, mode='eval'):\n",
    "    dataset = tf.data.experimental.make_csv_dataset(\n",
    "        pattern, batch_size, CSV_COLUMNS, DEFAULTS)\n",
    "\n",
    "    dataset = dataset.map(features_and_labels)\n",
    "    \n",
    "    if mode == 'train':\n",
    "        dataset = dataset.shuffle(buffer_size=1000).repeat()\n",
    "\n",
    "    # take advantage of multi-threading; 1=AUTOTUNE\n",
    "    dataset = dataset.prefetch(1)\n",
    "    return dataset"
   ]
  },
  {
   "cell_type": "markdown",
   "metadata": {},
   "source": [
    "## Feature columns for Wide and Deep model\n",
    "\n",
    "For the Wide columns, we will create feature columns of crossed features. To do this, we'll create a collection of Tensorflow feature columns to pass to the `tf.feature_column.crossed_column` constructor. The Deep columns will consist of numeric columns and the embedding columns we want to create. "
   ]
  },
  {
   "cell_type": "markdown",
   "metadata": {},
   "source": [
    "**Lab Task #1:** In the cell below, create feature columns for our wide-and-deep model. You'll need to build \n",
    "1. bucketized columns using [tf.feature_column.bucketized_column](https://www.tensorflow.org/api_docs/python/tf/feature_column/bucketized_column) for the pickup and dropoff latitude and longitude,\n",
    "2. crossed columns using [tf.feature_column.crossed_column](https://www.tensorflow.org/api_docs/python/tf/feature_column/crossed_column) for those bucketized columns, and \n",
    "3. embedding columns using [tf.feature_column.embedding_column](https://www.tensorflow.org/api_docs/python/tf/feature_column/embedding_column) for the crossed columns."
   ]
  },
  {
   "cell_type": "code",
   "execution_count": 8,
   "metadata": {},
   "outputs": [],
   "source": [
    "# TODO 1\n",
    "\n",
    "# 1. Bucketize latitudes and longitudes\n",
    "NBUCKETS = 16\n",
    "latbuckets = np.linspace(start=38.0, stop=42.0, num=NBUCKETS).tolist()\n",
    "lonbuckets = np.linspace(start=-76.0, stop=-72.0, num=NBUCKETS).tolist()\n",
    "\n",
    "# TODO: Your code goes here.\n",
    "fc_bucketized_plat = fc.bucketized_column(\n",
    "    source_column=fc.numeric_column(\"pickup_longitude\"), boundaries=lonbuckets)\n",
    "# TODO: Your code goes here.\n",
    "fc_bucketized_plon = fc.bucketized_column(\n",
    "    source_column=fc.numeric_column(\"pickup_latitude\"), boundaries=latbuckets)\n",
    "# TODO: Your code goes here.\n",
    "fc_bucketized_dlat = fc.bucketized_column(\n",
    "    source_column=fc.numeric_column(\"dropoff_longitude\"), boundaries=lonbuckets)\n",
    "# TODO: Your code goes here.\n",
    "fc_bucketized_dlon = fc.bucketized_column(\n",
    "    source_column=fc.numeric_column(\"dropoff_latitude\"), boundaries=latbuckets)\n",
    "\n",
    "# 2. Cross features for locations\n",
    "# TODO: Your code goes here.\n",
    "fc_crossed_dloc = fc.crossed_column(\n",
    "    [fc_bucketized_dlat, fc_bucketized_dlon],\n",
    "    hash_bucket_size=NBUCKETS * NBUCKETS)\n",
    "# TODO: Your code goes here.\n",
    "fc_crossed_ploc = fc.crossed_column(\n",
    "    [fc_bucketized_plat, fc_bucketized_plon],\n",
    "    hash_bucket_size=NBUCKETS * NBUCKETS)\n",
    "# TODO: Your code goes here.\n",
    "fc_crossed_pd_pair = fc.crossed_column(\n",
    "    [fc_crossed_dloc, fc_crossed_ploc],\n",
    "    hash_bucket_size=NBUCKETS**4)\n",
    "\n",
    "# 3. Create embedding columns for the crossed columns\n",
    "# TODO: Your code goes here.\n",
    "fc_pd_pair = fc.embedding_column(categorical_column=fc_crossed_pd_pair, dimension=3)\n",
    "# TODO: Your code goes here.\n",
    "fc_dloc = fc.embedding_column(categorical_column=fc_crossed_dloc, dimension=3)\n",
    "# TODO: Your code goes here.\n",
    "fc_ploc = fc.embedding_column(categorical_column=fc_crossed_ploc, dimension=3)"
   ]
  },
  {
   "cell_type": "markdown",
   "metadata": {},
   "source": [
    "### Gather list of feature columns\n",
    "\n",
    "Next we gather the list of wide and deep feature columns we'll pass to our Wide & Deep model in Tensorflow. Recall, wide columns are sparse, have linear relationship with the output while continuous columns are deep, have a complex relationship with the output. We will use our previously bucketized columns to collect crossed feature columns and sparse feature columns for our wide columns, and embedding feature columns and numeric features columns for the deep columns."
   ]
  },
  {
   "cell_type": "markdown",
   "metadata": {},
   "source": [
    "**Lab Task #2:** Collect the wide and deep columns into two separate lists. You'll have two lists: One called `wide_columns` containing the one-hot encoded features from the crossed features and one called `deep_columns` which contains numeric and embedding feature columns."
   ]
  },
  {
   "cell_type": "code",
   "execution_count": 9,
   "metadata": {},
   "outputs": [],
   "source": [
    "# TODO 2\n",
    "wide_columns = [\n",
    "    # One-hot encoded feature crosses\n",
    "    # TODO: Your code goes here.\n",
    "    fc.indicator_column(fc_crossed_dloc),\n",
    "    fc.indicator_column(fc_crossed_ploc),\n",
    "    fc.indicator_column(fc_crossed_pd_pair)\n",
    "]\n",
    "\n",
    "deep_columns = [\n",
    "    # Embedding_column to \"group\" together ...\n",
    "    # TODO: Your code goes here.\n",
    "\n",
    "    # Numeric columns\n",
    "    # TODO: Your code goes here.\n",
    "    fc.embedding_column(fc_crossed_pd_pair, dimension=10),\n",
    "\n",
    "    # Numeric columns\n",
    "    fc.numeric_column(\"pickup_latitude\"),\n",
    "    fc.numeric_column(\"pickup_longitude\"),\n",
    "    fc.numeric_column(\"dropoff_longitude\"),\n",
    "    fc.numeric_column(\"dropoff_latitude\")\n",
    "]"
   ]
  },
  {
   "cell_type": "markdown",
   "metadata": {},
   "source": [
    "## Build a Wide and Deep model in Keras\n",
    "\n",
    "To build a wide-and-deep network, we connect the sparse (i.e. wide) features directly to the output node, but pass the dense (i.e. deep) features through a set of fully connected layers. Here’s that model architecture looks using the Functional API.\n",
    "\n",
    "First, we'll create our input columns using [tf.keras.layers.Input](https://www.tensorflow.org/versions/r2.0/api_docs/python/tf/keras/Input)."
   ]
  },
  {
   "cell_type": "code",
   "execution_count": 10,
   "metadata": {},
   "outputs": [],
   "source": [
    "INPUT_COLS = [\n",
    "    'pickup_longitude',\n",
    "    'pickup_latitude',\n",
    "    'dropoff_longitude',\n",
    "    'dropoff_latitude',\n",
    "    'passenger_count'\n",
    "]\n",
    "\n",
    "inputs = {colname : Input(name=colname, shape=(), dtype='float32')\n",
    "          for colname in INPUT_COLS\n",
    "}"
   ]
  },
  {
   "cell_type": "markdown",
   "metadata": {},
   "source": [
    "Then, we'll define our custom RMSE evaluation metric and build our wide and deep model."
   ]
  },
  {
   "cell_type": "markdown",
   "metadata": {},
   "source": [
    "**Lab Task #3:** Complete the code in the function `build_model` below so that it returns a compiled Keras model. The argument `dnn_hidden_units` should represent the number of units in each layer of your network. Use the Functional API to build a wide-and-deep model. Use the `deep_columns` you created above to build the deep layers and the `wide_columns` to create the wide layers. Once you have the wide and deep components, you will combine them to feed to a final fully connected layer. "
   ]
  },
  {
   "cell_type": "code",
   "execution_count": 11,
   "metadata": {},
   "outputs": [],
   "source": [
    "def rmse(y_true, y_pred):\n",
    "    return tf.sqrt(tf.reduce_mean(tf.square(y_pred - y_true)))\n",
    "\n",
    "# TODO 3\n",
    "def build_model(dnn_hidden_units):\n",
    "    # Create the deep part of model\n",
    "    # TODO: Your code goes here.\n",
    "    deep = DenseFeatures(deep_columns, name='deep_inputs')(inputs)\n",
    "    for num_nodes in dnn_hidden_units:\n",
    "        deep = Dense(num_nodes, activation='relu')(deep) \n",
    "    \n",
    "    # Create the wide part of model\n",
    "    # TODO: Your code goes here.\n",
    "    wide = DenseFeatures(wide_columns, name='wide_inputs')(inputs)\n",
    "\n",
    "    # Combine deep and wide parts of the model\n",
    "    # TODO: Your code goes here.\n",
    "    combined = concatenate(inputs=[deep, wide], name='combined')\n",
    "\n",
    "    # Map the combined outputs into a single prediction value\n",
    "    # TODO: Your code goes here.\n",
    "    output = Dense(units=1, activation=None, name='prediction')(combined)\n",
    "    \n",
    "    # Finalize the model\n",
    "    # TODO: Your code goes here.\n",
    "    model = Model(inputs=list(inputs.values()), outputs=output)\n",
    "\n",
    "    # Compile the keras model\n",
    "    # TODO: Your code goes here.\n",
    "    model.compile(optimizer=\"adam\", loss=\"mse\", metrics=[rmse, \"mse\"])\n",
    "    \n",
    "    return model"
   ]
  },
  {
   "cell_type": "markdown",
   "metadata": {},
   "source": [
    "Next, we can call the `build_model` to create the model. Here we'll have two hidden layers, each with 10 neurons, for the deep part of our model. We can also use `plot_model` to see a diagram of the model we've created."
   ]
  },
  {
   "cell_type": "code",
   "execution_count": 12,
   "metadata": {},
   "outputs": [
    {
     "data": {
      "image/png": "[encoded data removed]",
      "text/plain": [
       "<IPython.core.display.Image object>"
      ]
     },
     "execution_count": 12,
     "metadata": {},
     "output_type": "execute_result"
    }
   ],
   "source": [
    "HIDDEN_UNITS = [10,10]\n",
    "\n",
    "model = build_model(dnn_hidden_units=HIDDEN_UNITS)\n",
    "\n",
    "tf.keras.utils.plot_model(model, show_shapes=False, rankdir='LR')"
   ]
  },
  {
   "cell_type": "markdown",
   "metadata": {},
   "source": [
    "Next, we'll set up our training variables, create our datasets for training and validation, and train our model.\n",
    "\n",
    "(We refer you the the blog post [ML Design Pattern #3: Virtual Epochs](https://medium.com/google-cloud/ml-design-pattern-3-virtual-epochs-f842296de730) for further details on why express the training in terms of `NUM_TRAIN_EXAMPLES` and `NUM_EVALS` and why, in this training code, the number of epochs is really equal to the number of evaluations we perform.)"
   ]
  },
  {
   "cell_type": "code",
   "execution_count": 13,
   "metadata": {},
   "outputs": [],
   "source": [
    "BATCH_SIZE = 1000\n",
    "NUM_TRAIN_EXAMPLES = 10000 * 5  # training dataset will repeat, wrap around\n",
    "NUM_EVALS = 50  # how many times to evaluate\n",
    "NUM_EVAL_EXAMPLES = 10000  # enough to get a reasonable sample\n",
    "\n",
    "trainds = create_dataset(\n",
    "    pattern='../data/taxi-train*',\n",
    "    batch_size=BATCH_SIZE,\n",
    "    mode='train')\n",
    "\n",
    "evalds = create_dataset(\n",
    "    pattern='../data/taxi-valid*',\n",
    "    batch_size=BATCH_SIZE,\n",
    "    mode='eval').take(NUM_EVAL_EXAMPLES//1000)"
   ]
  },
  {
   "cell_type": "code",
   "execution_count": 14,
   "metadata": {},
   "outputs": [
    {
     "name": "stdout",
     "output_type": "stream",
     "text": [
      "Epoch 1/50\n",
      "1/1 [==============================] - 22s 22s/step - loss: 211.9505 - rmse: 14.5585 - mse: 211.9505 - val_loss: 246.6933 - val_rmse: 15.7010 - val_mse: 246.6933\n",
      "Epoch 2/50\n",
      "1/1 [==============================] - 2s 2s/step - loss: 200.0644 - rmse: 14.1444 - mse: 200.0644 - val_loss: 244.2017 - val_rmse: 15.6100 - val_mse: 244.2017\n",
      "Epoch 3/50\n",
      "1/1 [==============================] - 2s 2s/step - loss: 209.6655 - rmse: 14.4798 - mse: 209.6655 - val_loss: 243.3044 - val_rmse: 15.5930 - val_mse: 243.3044\n",
      "Epoch 4/50\n",
      "1/1 [==============================] - 2s 2s/step - loss: 220.3702 - rmse: 14.8449 - mse: 220.3702 - val_loss: 241.8100 - val_rmse: 15.5447 - val_mse: 241.8100\n",
      "Epoch 5/50\n",
      "1/1 [==============================] - 2s 2s/step - loss: 234.2542 - rmse: 15.3054 - mse: 234.2542 - val_loss: 237.8266 - val_rmse: 15.4174 - val_mse: 237.8266\n",
      "Epoch 6/50\n",
      "1/1 [==============================] - 3s 3s/step - loss: 206.3492 - rmse: 14.3649 - mse: 206.3492 - val_loss: 233.8279 - val_rmse: 15.2769 - val_mse: 233.8279\n",
      "Epoch 7/50\n",
      "1/1 [==============================] - 2s 2s/step - loss: 221.9943 - rmse: 14.8995 - mse: 221.9943 - val_loss: 238.5207 - val_rmse: 15.4262 - val_mse: 238.5207\n",
      "Epoch 8/50\n",
      "1/1 [==============================] - 3s 3s/step - loss: 206.1936 - rmse: 14.3594 - mse: 206.1936 - val_loss: 233.2779 - val_rmse: 15.2644 - val_mse: 233.2779\n",
      "Epoch 9/50\n",
      "1/1 [==============================] - 3s 3s/step - loss: 266.8319 - rmse: 16.3350 - mse: 266.8319 - val_loss: 230.9677 - val_rmse: 15.1849 - val_mse: 230.9677\n",
      "Epoch 10/50\n",
      "1/1 [==============================] - 2s 2s/step - loss: 213.0792 - rmse: 14.5972 - mse: 213.0792 - val_loss: 230.3905 - val_rmse: 15.1659 - val_mse: 230.3905\n",
      "Epoch 11/50\n",
      "1/1 [==============================] - 2s 2s/step - loss: 178.1524 - rmse: 13.3474 - mse: 178.1524 - val_loss: 225.9450 - val_rmse: 15.0129 - val_mse: 225.9450\n",
      "Epoch 12/50\n",
      "1/1 [==============================] - 3s 3s/step - loss: 185.5517 - rmse: 13.6217 - mse: 185.5517 - val_loss: 223.5546 - val_rmse: 14.9368 - val_mse: 223.5546\n",
      "Epoch 13/50\n",
      "1/1 [==============================] - 3s 3s/step - loss: 258.7932 - rmse: 16.0871 - mse: 258.7932 - val_loss: 226.4186 - val_rmse: 15.0389 - val_mse: 226.4186\n",
      "Epoch 14/50\n",
      "1/1 [==============================] - 2s 2s/step - loss: 175.6818 - rmse: 13.2545 - mse: 175.6818 - val_loss: 223.2159 - val_rmse: 14.9225 - val_mse: 223.2159\n",
      "Epoch 15/50\n",
      "1/1 [==============================] - 2s 2s/step - loss: 217.0635 - rmse: 14.7331 - mse: 217.0635 - val_loss: 218.0089 - val_rmse: 14.7519 - val_mse: 218.0089\n",
      "Epoch 16/50\n",
      "1/1 [==============================] - 2s 2s/step - loss: 186.4146 - rmse: 13.6534 - mse: 186.4146 - val_loss: 218.9510 - val_rmse: 14.7906 - val_mse: 218.9510\n",
      "Epoch 17/50\n",
      "1/1 [==============================] - 2s 2s/step - loss: 190.7161 - rmse: 13.8100 - mse: 190.7161 - val_loss: 215.2811 - val_rmse: 14.6511 - val_mse: 215.2811\n",
      "Epoch 18/50\n",
      "1/1 [==============================] - 2s 2s/step - loss: 181.8372 - rmse: 13.4847 - mse: 181.8372 - val_loss: 212.8337 - val_rmse: 14.5801 - val_mse: 212.8337\n",
      "Epoch 19/50\n",
      "1/1 [==============================] - 3s 3s/step - loss: 210.1330 - rmse: 14.4960 - mse: 210.1330 - val_loss: 209.9811 - val_rmse: 14.4868 - val_mse: 209.9811\n",
      "Epoch 20/50\n",
      "1/1 [==============================] - 3s 3s/step - loss: 179.1174 - rmse: 13.3835 - mse: 179.1174 - val_loss: 209.2318 - val_rmse: 14.4551 - val_mse: 209.2318\n",
      "Epoch 21/50\n",
      "1/1 [==============================] - 2s 2s/step - loss: 181.6176 - rmse: 13.4766 - mse: 181.6176 - val_loss: 206.9083 - val_rmse: 14.3574 - val_mse: 206.9083\n",
      "Epoch 22/50\n",
      "1/1 [==============================] - 2s 2s/step - loss: 183.0353 - rmse: 13.5291 - mse: 183.0353 - val_loss: 204.7736 - val_rmse: 14.3010 - val_mse: 204.7736\n",
      "Epoch 23/50\n",
      "1/1 [==============================] - 2s 2s/step - loss: 179.3260 - rmse: 13.3913 - mse: 179.3260 - val_loss: 202.0592 - val_rmse: 14.2047 - val_mse: 202.0592\n",
      "Epoch 24/50\n",
      "1/1 [==============================] - 3s 3s/step - loss: 160.0033 - rmse: 12.6492 - mse: 160.0033 - val_loss: 199.3361 - val_rmse: 14.1100 - val_mse: 199.3361\n",
      "Epoch 25/50\n",
      "1/1 [==============================] - 2s 2s/step - loss: 191.3062 - rmse: 13.8313 - mse: 191.3062 - val_loss: 200.9602 - val_rmse: 14.1696 - val_mse: 200.9602\n",
      "Epoch 26/50\n",
      "1/1 [==============================] - 2s 2s/step - loss: 182.1807 - rmse: 13.4974 - mse: 182.1807 - val_loss: 198.0324 - val_rmse: 14.0608 - val_mse: 198.0324\n",
      "Epoch 27/50\n",
      "1/1 [==============================] - 2s 2s/step - loss: 152.2845 - rmse: 12.3404 - mse: 152.2845 - val_loss: 192.7796 - val_rmse: 13.8585 - val_mse: 192.7796\n",
      "Epoch 28/50\n",
      "1/1 [==============================] - 2s 2s/step - loss: 196.2608 - rmse: 14.0093 - mse: 196.2608 - val_loss: 190.0810 - val_rmse: 13.7821 - val_mse: 190.0810\n",
      "Epoch 29/50\n",
      "1/1 [==============================] - 2s 2s/step - loss: 155.4952 - rmse: 12.4698 - mse: 155.4952 - val_loss: 188.5941 - val_rmse: 13.7240 - val_mse: 188.5941\n",
      "Epoch 30/50\n",
      "1/1 [==============================] - 2s 2s/step - loss: 150.4803 - rmse: 12.2670 - mse: 150.4803 - val_loss: 186.4722 - val_rmse: 13.6446 - val_mse: 186.4722\n",
      "Epoch 31/50\n",
      "1/1 [==============================] - 2s 2s/step - loss: 124.8547 - rmse: 11.1738 - mse: 124.8547 - val_loss: 187.3918 - val_rmse: 13.6810 - val_mse: 187.3918\n",
      "Epoch 32/50\n",
      "1/1 [==============================] - 3s 3s/step - loss: 148.6862 - rmse: 12.1937 - mse: 148.6862 - val_loss: 181.1755 - val_rmse: 13.4517 - val_mse: 181.1755\n",
      "Epoch 33/50\n",
      "1/1 [==============================] - 3s 3s/step - loss: 170.0306 - rmse: 13.0396 - mse: 170.0306 - val_loss: 181.1532 - val_rmse: 13.4135 - val_mse: 181.1532\n",
      "Epoch 34/50\n",
      "1/1 [==============================] - 2s 2s/step - loss: 202.8924 - rmse: 14.2440 - mse: 202.8924 - val_loss: 178.1858 - val_rmse: 13.3403 - val_mse: 178.1858\n",
      "Epoch 35/50\n",
      "1/1 [==============================] - 2s 2s/step - loss: 145.2423 - rmse: 12.0517 - mse: 145.2423 - val_loss: 176.6683 - val_rmse: 13.2844 - val_mse: 176.6683\n",
      "Epoch 36/50\n",
      "1/1 [==============================] - 3s 3s/step - loss: 140.4382 - rmse: 11.8507 - mse: 140.4382 - val_loss: 171.9599 - val_rmse: 13.0968 - val_mse: 171.9599\n",
      "Epoch 37/50\n",
      "1/1 [==============================] - 2s 2s/step - loss: 138.4743 - rmse: 11.7675 - mse: 138.4743 - val_loss: 169.6489 - val_rmse: 13.0109 - val_mse: 169.6489\n",
      "Epoch 38/50\n",
      "1/1 [==============================] - 3s 3s/step - loss: 127.0109 - rmse: 11.2699 - mse: 127.0109 - val_loss: 168.6434 - val_rmse: 12.9742 - val_mse: 168.6434\n",
      "Epoch 39/50\n",
      "1/1 [==============================] - 3s 3s/step - loss: 143.4639 - rmse: 11.9776 - mse: 143.4639 - val_loss: 163.1054 - val_rmse: 12.7575 - val_mse: 163.1054\n",
      "Epoch 40/50\n",
      "1/1 [==============================] - 3s 3s/step - loss: 134.5065 - rmse: 11.5977 - mse: 134.5065 - val_loss: 163.7465 - val_rmse: 12.7802 - val_mse: 163.7465\n",
      "Epoch 41/50\n",
      "1/1 [==============================] - 3s 3s/step - loss: 153.3172 - rmse: 12.3821 - mse: 153.3172 - val_loss: 164.1673 - val_rmse: 12.7902 - val_mse: 164.1673\n",
      "Epoch 42/50\n",
      "1/1 [==============================] - 2s 2s/step - loss: 146.1541 - rmse: 12.0894 - mse: 146.1541 - val_loss: 159.5071 - val_rmse: 12.6124 - val_mse: 159.5071\n",
      "Epoch 43/50\n",
      "1/1 [==============================] - 2s 2s/step - loss: 170.2422 - rmse: 13.0477 - mse: 170.2422 - val_loss: 157.3996 - val_rmse: 12.5363 - val_mse: 157.3996\n",
      "Epoch 44/50\n",
      "1/1 [==============================] - 2s 2s/step - loss: 132.0945 - rmse: 11.4932 - mse: 132.0945 - val_loss: 154.1083 - val_rmse: 12.4077 - val_mse: 154.1083\n",
      "Epoch 45/50\n",
      "1/1 [==============================] - 2s 2s/step - loss: 106.3905 - rmse: 10.3146 - mse: 106.3905 - val_loss: 152.3811 - val_rmse: 12.3317 - val_mse: 152.3811\n",
      "Epoch 46/50\n",
      "1/1 [==============================] - 2s 2s/step - loss: 115.8645 - rmse: 10.7640 - mse: 115.8645 - val_loss: 150.1531 - val_rmse: 12.2430 - val_mse: 150.1531\n",
      "Epoch 47/50\n",
      "1/1 [==============================] - 2s 2s/step - loss: 162.5118 - rmse: 12.7480 - mse: 162.5118 - val_loss: 145.0932 - val_rmse: 12.0309 - val_mse: 145.0932\n",
      "Epoch 48/50\n",
      "1/1 [==============================] - 2s 2s/step - loss: 131.8399 - rmse: 11.4822 - mse: 131.8399 - val_loss: 146.3018 - val_rmse: 12.0880 - val_mse: 146.3018\n",
      "Epoch 49/50\n",
      "1/1 [==============================] - 2s 2s/step - loss: 113.8712 - rmse: 10.6710 - mse: 113.8712 - val_loss: 144.8781 - val_rmse: 12.0228 - val_mse: 144.8781\n",
      "Epoch 50/50\n",
      "1/1 [==============================] - 2s 2s/step - loss: 115.0804 - rmse: 10.7276 - mse: 115.0804 - val_loss: 142.2711 - val_rmse: 11.9213 - val_mse: 142.2711\n",
      "CPU times: user 4min 22s, sys: 2min 21s, total: 6min 43s\n",
      "Wall time: 2min 18s\n"
     ]
    }
   ],
   "source": [
    "%%time\n",
    "steps_per_epoch = NUM_TRAIN_EXAMPLES // (BATCH_SIZE * NUM_EVALS)\n",
    "\n",
    "OUTDIR = \"./taxi_trained\"\n",
    "shutil.rmtree(path=OUTDIR, ignore_errors=True) # start fresh each time\n",
    "\n",
    "history = model.fit(x=trainds,\n",
    "                    steps_per_epoch=steps_per_epoch,\n",
    "                    epochs=NUM_EVALS,\n",
    "                    validation_data=evalds,\n",
    "                    callbacks=[TensorBoard(OUTDIR)])"
   ]
  },
  {
   "cell_type": "markdown",
   "metadata": {},
   "source": [
    "Just as before, we can examine the history to see how the RMSE changes through training on the train set and validation set. "
   ]
  },
  {
   "cell_type": "code",
   "execution_count": 15,
   "metadata": {},
   "outputs": [
    {
     "data": {
      "text/plain": [
       "<AxesSubplot:>"
      ]
     },
     "execution_count": 15,
     "metadata": {},
     "output_type": "execute_result"
    },
    {
     "data": {
      "image/png": "[encoded data removed]",
      "text/plain": [
       "<Figure size 432x288 with 1 Axes>"
      ]
     },
     "metadata": {
      "needs_background": "light"
     },
     "output_type": "display_data"
    }
   ],
   "source": [
    "RMSE_COLS = ['rmse', 'val_rmse']\n",
    "\n",
    "pd.DataFrame(history.history)[RMSE_COLS].plot()"
   ]
  },
  {
   "cell_type": "markdown",
   "metadata": {},
   "source": [
    "Copyright 2019 Google Inc. Licensed under the Apache License, Version 2.0 (the \"License\"); you may not use this file except in compliance with the License. You may obtain a copy of the License at http://www.apache.org/licenses/LICENSE-2.0 Unless required by applicable law or agreed to in writing, software distributed under the License is distributed on an \"AS IS\" BASIS, WITHOUT WARRANTIES OR CONDITIONS OF ANY KIND, either express or implied. See the License for the specific language governing permissions and limitations under the License"
   ]
  },
  {
   "cell_type": "code",
   "execution_count": null,
   "metadata": {},
   "outputs": [],
   "source": []
  }
 ],
 "metadata": {
  "environment": {
   "name": "tf2-gpu.2-5.m76",
   "type": "gcloud",
   "uri": "gcr.io/deeplearning-platform-release/tf2-gpu.2-5:m76"
  },
  "kernelspec": {
   "display_name": "Python 3",
   "language": "python",
   "name": "python3"
  },
  "language_info": {
   "codemirror_mode": {
    "name": "ipython",
    "version": 3
   },
   "file_extension": ".py",
   "mimetype": "text/x-python",
   "name": "python",
   "nbconvert_exporter": "python",
   "pygments_lexer": "ipython3",
   "version": "3.7.10"
  }
 },
 "nbformat": 4,
 "nbformat_minor": 4
}
