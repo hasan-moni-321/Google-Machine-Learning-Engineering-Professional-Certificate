{
 "cells": [
  {
   "cell_type": "markdown",
   "metadata": {},
   "source": [
    "# Build a DNN using the Keras Functional API\n",
    "\n",
    "\n",
    "\n",
    "\n",
    "### Learning objectives\n",
    "\n",
    "1. Review how to read in CSV file data using tf.data\n",
    "2. Specify input, hidden, and output layers in the DNN architecture\n",
    "3. Review and visualize the final DNN shape\n",
    "4. Train the model locally and visualize the loss curves\n",
    "5. Deploy and predict with the model using Cloud AI Platform \n",
    "\n",
    "In this notebook, we will build a Keras DNN to predict the fare amount for NYC taxi cab rides.\n",
    "\n",
    "Each learning objective will correspond to a __#TODO__ in this student lab notebook -- try to complete this notebook first and then review the [solution notebook](../solutions/neural_network.ipynb)."
   ]
  },
  {
   "cell_type": "code",
   "execution_count": 1,
   "metadata": {},
   "outputs": [
    {
     "name": "stdout",
     "output_type": "stream",
     "text": [
      "TensorFlow version:  2.6.0\n"
     ]
    }
   ],
   "source": [
    "import os, json, math\n",
    "import numpy as np\n",
    "import shutil\n",
    "import tensorflow as tf\n",
    "print(\"TensorFlow version: \",tf.version.VERSION)\n",
    "\n",
    "os.environ['TF_CPP_MIN_LOG_LEVEL'] = '3' # SET TF ERROR LOG VERBOSITY"
   ]
  },
  {
   "cell_type": "markdown",
   "metadata": {},
   "source": [
    "## Locating the CSV files\n",
    "\n",
    "We will start with the CSV files that we wrote out in the [first notebook](../01_explore/taxifare.iypnb) of this sequence. Just so you don't have to run the notebook, we saved a copy in ../../data"
   ]
  },
  {
   "cell_type": "code",
   "execution_count": 2,
   "metadata": {},
   "outputs": [
    {
     "name": "stdout",
     "output_type": "stream",
     "text": [
      "-rw-r--r-- 1 jupyter jupyter 2186310 Sep  2 03:00 ../data/taxi-traffic-test.csv\n",
      "-rw-r--r-- 1 jupyter jupyter 9713118 Sep  2 03:00 ../data/taxi-traffic-train.csv\n",
      "-rw-r--r-- 1 jupyter jupyter 2036826 Sep  2 03:00 ../data/taxi-traffic-valid.csv\n"
     ]
    }
   ],
   "source": [
    "!ls -l ../data/*.csv"
   ]
  },
  {
   "cell_type": "markdown",
   "metadata": {},
   "source": [
    "## Lab Task 1: Use tf.data to read the CSV files\n",
    "\n",
    "We wrote these cells in the [third notebook](../03_tfdata/solution/input_pipeline.ipynb) of this sequence where we created a data pipeline with Keras.\n",
    "\n",
    "First let's define our columns of data, which column we're predicting for, and the default values."
   ]
  },
  {
   "cell_type": "code",
   "execution_count": 3,
   "metadata": {},
   "outputs": [],
   "source": [
    "CSV_COLUMNS  = ['fare_amount',  'pickup_datetime',\n",
    "                'pickup_longitude', 'pickup_latitude', \n",
    "                'dropoff_longitude', 'dropoff_latitude', \n",
    "                'passenger_count', 'key']\n",
    "LABEL_COLUMN = 'fare_amount'\n",
    "DEFAULTS     = [[0.0],['na'],[0.0],[0.0],[0.0],[0.0],[0.0],['na']]"
   ]
  },
  {
   "cell_type": "markdown",
   "metadata": {},
   "source": [
    "Next, let's define our features we want to use and our label(s) and then load in the dataset for training."
   ]
  },
  {
   "cell_type": "code",
   "execution_count": 4,
   "metadata": {},
   "outputs": [],
   "source": [
    "def features_and_labels(row_data):\n",
    "    for unwanted_col in ['pickup_datetime', 'key']:\n",
    "        row_data.pop(unwanted_col)\n",
    "    label = row_data.pop(LABEL_COLUMN)\n",
    "    return row_data, label  # features, label\n",
    "\n",
    "# load the training data\n",
    "def load_dataset(pattern, batch_size=1, mode=tf.estimator.ModeKeys.EVAL):\n",
    "  dataset = (tf.data.experimental.make_csv_dataset(pattern, batch_size, CSV_COLUMNS, DEFAULTS)\n",
    "             .map(features_and_labels) # features, label\n",
    "             )\n",
    "  if mode == tf.estimator.ModeKeys.TRAIN:\n",
    "        dataset = dataset.shuffle(1000).repeat()\n",
    "  dataset = dataset.prefetch(1) # take advantage of multi-threading; 1=AUTOTUNE\n",
    "  return dataset"
   ]
  },
  {
   "cell_type": "markdown",
   "metadata": {},
   "source": [
    "## Lab Task 2: Build a DNN with Keras\n",
    "\n",
    "Now let's build the Deep Neural Network (DNN) model in Keras and specify the input and hidden layers. We will print out the DNN architecture and then visualize it later on."
   ]
  },
  {
   "cell_type": "code",
   "execution_count": 5,
   "metadata": {},
   "outputs": [
    {
     "name": "stdout",
     "output_type": "stream",
     "text": [
      "Here is our DNN architecture so far:\n",
      "\n",
      "Model: \"model\"\n",
      "__________________________________________________________________________________________________\n",
      "Layer (type)                    Output Shape         Param #     Connected to                     \n",
      "==================================================================================================\n",
      "dropoff_latitude (InputLayer)   [(None,)]            0                                            \n",
      "__________________________________________________________________________________________________\n",
      "dropoff_longitude (InputLayer)  [(None,)]            0                                            \n",
      "__________________________________________________________________________________________________\n",
      "passenger_count (InputLayer)    [(None,)]            0                                            \n",
      "__________________________________________________________________________________________________\n",
      "pickup_latitude (InputLayer)    [(None,)]            0                                            \n",
      "__________________________________________________________________________________________________\n",
      "pickup_longitude (InputLayer)   [(None,)]            0                                            \n",
      "__________________________________________________________________________________________________\n",
      "dense_features (DenseFeatures)  (None, 5)            0           dropoff_latitude[0][0]           \n",
      "                                                                 dropoff_longitude[0][0]          \n",
      "                                                                 passenger_count[0][0]            \n",
      "                                                                 pickup_latitude[0][0]            \n",
      "                                                                 pickup_longitude[0][0]           \n",
      "__________________________________________________________________________________________________\n",
      "h1 (Dense)                      (None, 32)           192         dense_features[0][0]             \n",
      "__________________________________________________________________________________________________\n",
      "h2 (Dense)                      (None, 8)            264         h1[0][0]                         \n",
      "__________________________________________________________________________________________________\n",
      "fare (Dense)                    (None, 1)            9           h2[0][0]                         \n",
      "==================================================================================================\n",
      "Total params: 465\n",
      "Trainable params: 465\n",
      "Non-trainable params: 0\n",
      "__________________________________________________________________________________________________\n",
      "None\n"
     ]
    }
   ],
   "source": [
    "## Build a simple Keras DNN using its Functional API\n",
    "def rmse(y_true, y_pred):\n",
    "    return tf.sqrt(tf.reduce_mean(tf.square(y_pred - y_true))) \n",
    "\n",
    "def build_dnn_model():\n",
    "    INPUT_COLS = ['pickup_longitude', 'pickup_latitude', \n",
    "                  'dropoff_longitude', 'dropoff_latitude', \n",
    "                  'passenger_count']\n",
    "\n",
    "    # TODO 2\n",
    "    # input layer\n",
    "    # TODO -- Your code here.\n",
    "    inputs = {\n",
    "        colname : tf.keras.layers.Input(name=colname, shape=(), dtype='float32')\n",
    "           for colname in INPUT_COLS\n",
    "    }\n",
    "    \n",
    "    # TODO -- Your code here.\n",
    "    feature_columns = {\n",
    "        colname : tf.feature_column.numeric_column(colname)\n",
    "           for colname in INPUT_COLS\n",
    "    }\n",
    "    \n",
    "    # the constructor for DenseFeatures takes a list of numeric columns\n",
    "    # The Functional API in Keras requires that you specify: LayerConstructor()(inputs)\n",
    "    # TODO -- Your code here.\n",
    "    dnn_inputs = tf.keras.layers.DenseFeatures(feature_columns.values())(inputs)\n",
    "\n",
    "    # two hidden layers of [32, 8] just in like the BQML DNN\n",
    "    # TODO -- Your code here.\n",
    "    h1 = tf.keras.layers.Dense(32, activation='relu', name='h1')(dnn_inputs)\n",
    "    # TODO -- Your code here.\n",
    "    h2 = tf.keras.layers.Dense(8, activation='relu', name='h2')(h1)\n",
    "\n",
    "    # final output is a linear activation because this is regression\n",
    "    # TODO -- Your code here.\n",
    "    output = tf.keras.layers.Dense(1, activation='linear', name='fare')(h2)\n",
    "    # TODO -- Your code here.\n",
    "    model = tf.keras.models.Model(inputs, output)\n",
    "    model.compile(optimizer='adam', loss='mse', metrics=[rmse, 'mse'])\n",
    "    return model\n",
    "\n",
    "print(\"Here is our DNN architecture so far:\\n\")\n",
    "model = build_dnn_model()\n",
    "print(model.summary())"
   ]
  },
  {
   "cell_type": "markdown",
   "metadata": {},
   "source": [
    "## Lab Task 3: Visualize the DNN\n",
    "\n",
    "We can visualize the DNN using the Keras [plot_model](https://www.tensorflow.org/versions/r2.0/api_docs/python/tf/keras/utils/plot_model) utility."
   ]
  },
  {
   "cell_type": "code",
   "execution_count": 6,
   "metadata": {},
   "outputs": [
    {
     "data": {
      "image/png": "[encoded data removed]",
      "text/plain": [
       "<IPython.core.display.Image object>"
      ]
     },
     "execution_count": 6,
     "metadata": {},
     "output_type": "execute_result"
    }
   ],
   "source": [
    "tf.keras.utils.plot_model(model, 'dnn_model.png', show_shapes=False, rankdir='LR')"
   ]
  },
  {
   "cell_type": "markdown",
   "metadata": {},
   "source": [
    "## Lab Task 4: Train the model\n",
    "\n",
    "To train the model, simply call [model.fit()](https://keras.io/models/model/#fit).\n",
    "\n",
    "Note that we should really use many more NUM_TRAIN_EXAMPLES (i.e. a larger dataset). We shouldn't make assumptions about the quality of the model based on training/evaluating it on a small sample of the full data."
   ]
  },
  {
   "cell_type": "code",
   "execution_count": 7,
   "metadata": {},
   "outputs": [
    {
     "name": "stdout",
     "output_type": "stream",
     "text": [
      "Epoch 1/32\n",
      "48/48 [==============================] - 3s 31ms/step - loss: 2081.7686 - rmse: 44.4967 - mse: 2081.7686 - val_loss: 951.9161 - val_rmse: 30.8500 - val_mse: 951.9161\n",
      "Epoch 2/32\n",
      "48/48 [==============================] - 1s 24ms/step - loss: 650.9407 - rmse: 25.1406 - mse: 650.9407 - val_loss: 377.8289 - val_rmse: 19.4310 - val_mse: 377.8289\n",
      "Epoch 3/32\n",
      "48/48 [==============================] - 1s 25ms/step - loss: 359.6014 - rmse: 18.7141 - mse: 359.6014 - val_loss: 266.8786 - val_rmse: 16.3276 - val_mse: 266.8786\n",
      "Epoch 4/32\n",
      "48/48 [==============================] - 1s 23ms/step - loss: 233.1046 - rmse: 15.0823 - mse: 233.1046 - val_loss: 214.8663 - val_rmse: 14.6493 - val_mse: 214.8663\n",
      "Epoch 5/32\n",
      "48/48 [==============================] - 1s 23ms/step - loss: 206.1531 - rmse: 14.1248 - mse: 206.1531 - val_loss: 208.1536 - val_rmse: 14.4210 - val_mse: 208.1536\n",
      "Epoch 6/32\n",
      "48/48 [==============================] - 1s 22ms/step - loss: 239.9231 - rmse: 15.1144 - mse: 239.9231 - val_loss: 216.7238 - val_rmse: 14.7091 - val_mse: 216.7238\n",
      "Epoch 7/32\n",
      "48/48 [==============================] - 1s 30ms/step - loss: 220.3417 - rmse: 14.5187 - mse: 220.3417 - val_loss: 205.9468 - val_rmse: 14.3452 - val_mse: 205.9468\n",
      "Epoch 8/32\n",
      "48/48 [==============================] - 1s 27ms/step - loss: 188.7880 - rmse: 13.4099 - mse: 188.7880 - val_loss: 211.2332 - val_rmse: 14.5255 - val_mse: 211.2332\n",
      "Epoch 9/32\n",
      "48/48 [==============================] - 1s 29ms/step - loss: 197.6132 - rmse: 13.8104 - mse: 197.6132 - val_loss: 205.5793 - val_rmse: 14.3255 - val_mse: 205.5793\n",
      "Epoch 10/32\n",
      "48/48 [==============================] - 1s 31ms/step - loss: 218.8401 - rmse: 14.1363 - mse: 218.8401 - val_loss: 203.4449 - val_rmse: 14.2576 - val_mse: 203.4449\n",
      "Epoch 11/32\n",
      "48/48 [==============================] - 2s 36ms/step - loss: 221.7911 - rmse: 14.4969 - mse: 221.7911 - val_loss: 210.8584 - val_rmse: 14.5115 - val_mse: 210.8584\n",
      "Epoch 12/32\n",
      "48/48 [==============================] - 2s 32ms/step - loss: 223.3991 - rmse: 14.6907 - mse: 223.3991 - val_loss: 210.9863 - val_rmse: 14.5157 - val_mse: 210.9863\n",
      "Epoch 13/32\n",
      "48/48 [==============================] - 1s 26ms/step - loss: 224.0021 - rmse: 14.6095 - mse: 224.0021 - val_loss: 209.6948 - val_rmse: 14.4664 - val_mse: 209.6948\n",
      "Epoch 14/32\n",
      "48/48 [==============================] - 1s 25ms/step - loss: 216.8714 - rmse: 14.2739 - mse: 216.8714 - val_loss: 207.9617 - val_rmse: 14.4080 - val_mse: 207.9617\n",
      "Epoch 15/32\n",
      "48/48 [==============================] - 1s 28ms/step - loss: 200.6111 - rmse: 13.7186 - mse: 200.6111 - val_loss: 198.2990 - val_rmse: 14.0686 - val_mse: 198.2990\n",
      "Epoch 16/32\n",
      "48/48 [==============================] - 1s 30ms/step - loss: 221.6304 - rmse: 14.5653 - mse: 221.6304 - val_loss: 205.6962 - val_rmse: 14.3297 - val_mse: 205.6962\n",
      "Epoch 17/32\n",
      "48/48 [==============================] - 1s 26ms/step - loss: 195.4412 - rmse: 13.6563 - mse: 195.4412 - val_loss: 205.2579 - val_rmse: 14.3214 - val_mse: 205.2579\n",
      "Epoch 18/32\n",
      "48/48 [==============================] - 1s 23ms/step - loss: 199.8333 - rmse: 13.8646 - mse: 199.8333 - val_loss: 200.8668 - val_rmse: 14.1645 - val_mse: 200.8668\n",
      "Epoch 19/32\n",
      "48/48 [==============================] - 1s 27ms/step - loss: 222.1563 - rmse: 14.4896 - mse: 222.1563 - val_loss: 203.8574 - val_rmse: 14.2668 - val_mse: 203.8574\n",
      "Epoch 20/32\n",
      "48/48 [==============================] - 1s 22ms/step - loss: 210.4838 - rmse: 14.1774 - mse: 210.4838 - val_loss: 200.1225 - val_rmse: 14.1395 - val_mse: 200.1225\n",
      "Epoch 21/32\n",
      "48/48 [==============================] - 1s 23ms/step - loss: 194.4067 - rmse: 13.6237 - mse: 194.4067 - val_loss: 201.2917 - val_rmse: 14.1677 - val_mse: 201.2917\n",
      "Epoch 22/32\n",
      "48/48 [==============================] - 1s 25ms/step - loss: 197.9126 - rmse: 13.6087 - mse: 197.9126 - val_loss: 198.7231 - val_rmse: 14.0887 - val_mse: 198.7231\n",
      "Epoch 23/32\n",
      "48/48 [==============================] - 1s 26ms/step - loss: 224.8708 - rmse: 14.6325 - mse: 224.8708 - val_loss: 198.1358 - val_rmse: 14.0650 - val_mse: 198.1358\n",
      "Epoch 24/32\n",
      "48/48 [==============================] - 2s 32ms/step - loss: 213.3601 - rmse: 14.2637 - mse: 213.3601 - val_loss: 200.3524 - val_rmse: 14.1364 - val_mse: 200.3524\n",
      "Epoch 25/32\n",
      "48/48 [==============================] - 1s 25ms/step - loss: 192.7335 - rmse: 13.6113 - mse: 192.7335 - val_loss: 202.6546 - val_rmse: 14.2281 - val_mse: 202.6546\n",
      "Epoch 26/32\n",
      "48/48 [==============================] - 1s 25ms/step - loss: 178.2732 - rmse: 13.0884 - mse: 178.2732 - val_loss: 195.3481 - val_rmse: 13.9716 - val_mse: 195.3481\n",
      "Epoch 27/32\n",
      "48/48 [==============================] - 1s 26ms/step - loss: 201.6631 - rmse: 13.8474 - mse: 201.6631 - val_loss: 192.6315 - val_rmse: 13.8555 - val_mse: 192.6315\n",
      "Epoch 28/32\n",
      "48/48 [==============================] - 1s 28ms/step - loss: 211.6926 - rmse: 13.9943 - mse: 211.6926 - val_loss: 196.4656 - val_rmse: 14.0079 - val_mse: 196.4656\n",
      "Epoch 29/32\n",
      "48/48 [==============================] - 1s 26ms/step - loss: 198.1614 - rmse: 13.4819 - mse: 198.1614 - val_loss: 192.6947 - val_rmse: 13.8694 - val_mse: 192.6947\n",
      "Epoch 30/32\n",
      "48/48 [==============================] - 1s 29ms/step - loss: 222.2522 - rmse: 14.6116 - mse: 222.2522 - val_loss: 192.0729 - val_rmse: 13.8405 - val_mse: 192.0729\n",
      "Epoch 31/32\n",
      "48/48 [==============================] - 1s 23ms/step - loss: 186.5415 - rmse: 13.3681 - mse: 186.5415 - val_loss: 193.4432 - val_rmse: 13.8950 - val_mse: 193.4432\n",
      "Epoch 32/32\n",
      "48/48 [==============================] - 1s 25ms/step - loss: 216.3816 - rmse: 14.1870 - mse: 216.3816 - val_loss: 188.0669 - val_rmse: 13.7108 - val_mse: 188.0669\n"
     ]
    }
   ],
   "source": [
    "TRAIN_BATCH_SIZE = 32\n",
    "NUM_TRAIN_EXAMPLES = 10000 * 5 # training dataset repeats, so it will wrap around\n",
    "NUM_EVALS = 32  # how many times to evaluate\n",
    "NUM_EVAL_EXAMPLES = 10000 # enough to get a reasonable sample, but not so much that it slows down\n",
    "\n",
    "trainds = load_dataset('../data/taxi-traffic-train*', TRAIN_BATCH_SIZE, tf.estimator.ModeKeys.TRAIN)\n",
    "evalds = load_dataset('../data/taxi-traffic-valid*', 1000, tf.estimator.ModeKeys.EVAL).take(NUM_EVAL_EXAMPLES//1000)\n",
    "\n",
    "steps_per_epoch = NUM_TRAIN_EXAMPLES // (TRAIN_BATCH_SIZE * NUM_EVALS)\n",
    "\n",
    "history = model.fit(trainds, \n",
    "                    validation_data=evalds,\n",
    "                    epochs=NUM_EVALS, \n",
    "                    steps_per_epoch=steps_per_epoch)"
   ]
  },
  {
   "cell_type": "markdown",
   "metadata": {},
   "source": [
    "### Visualize the model loss curve\n",
    "\n",
    "Next, we will use matplotlib to draw the model's loss curves for training and validation."
   ]
  },
  {
   "cell_type": "code",
   "execution_count": 8,
   "metadata": {},
   "outputs": [
    {
     "data": {
      "image/png": "[encoded data removed]",
      "text/plain": [
       "<Figure size 720x360 with 2 Axes>"
      ]
     },
     "metadata": {
      "needs_background": "light"
     },
     "output_type": "display_data"
    }
   ],
   "source": [
    "# plot\n",
    "import matplotlib.pyplot as plt\n",
    "nrows = 1\n",
    "ncols = 2\n",
    "fig = plt.figure(figsize=(10, 5))\n",
    "\n",
    "for idx, key in enumerate(['loss', 'rmse']):\n",
    "    ax = fig.add_subplot(nrows, ncols, idx+1)\n",
    "    plt.plot(history.history[key])\n",
    "    plt.plot(history.history['val_{}'.format(key)])\n",
    "    plt.title('model {}'.format(key))\n",
    "    plt.ylabel(key)\n",
    "    plt.xlabel('epoch')\n",
    "    plt.legend(['train', 'validation'], loc='upper left');"
   ]
  },
  {
   "cell_type": "markdown",
   "metadata": {},
   "source": [
    "## Lab Task 5: Predict with the model locally\n",
    "\n",
    "To predict with Keras, you simply call [model.predict()](https://keras.io/models/model/#predict) and pass in the cab ride you want to predict the fare amount for."
   ]
  },
  {
   "cell_type": "code",
   "execution_count": 9,
   "metadata": {},
   "outputs": [
    {
     "data": {
      "text/plain": [
       "array([[-57.375538]], dtype=float32)"
      ]
     },
     "execution_count": 9,
     "metadata": {},
     "output_type": "execute_result"
    }
   ],
   "source": [
    "# TODO 5\n",
    "# TODO -- Your code here.\n",
    "model.predict({\n",
    "    'pickup_longitude': tf.convert_to_tensor([-73.982683]),\n",
    "    'pickup_latitude': tf.convert_to_tensor([40.742104]),\n",
    "    'dropoff_longitude': tf.convert_to_tensor([-73.983766]),\n",
    "    'dropoff_latitude': tf.convert_to_tensor([40.755174]),\n",
    "    'passenger_count': tf.convert_to_tensor([3.0]),    \n",
    "}, steps=1)"
   ]
  },
  {
   "cell_type": "markdown",
   "metadata": {},
   "source": [
    "Of course, this is not realistic, because we can't expect client code to have a model object in memory. We'll have to export our model to a file, and expect client code to instantiate the model from that exported file."
   ]
  },
  {
   "cell_type": "markdown",
   "metadata": {},
   "source": [
    "Copyright 2020 Google Inc.\n",
    "Licensed under the Apache License, Version 2.0 (the \"License\"); you may not use this file except in compliance with the License. You may obtain a copy of the License at\n",
    "http://www.apache.org/licenses/LICENSE-2.0\n",
    "Unless required by applicable law or agreed to in writing, software distributed under the License is distributed on an \"AS IS\" BASIS, WITHOUT WARRANTIES OR CONDITIONS OF ANY KIND, either express or implied. See the License for the specific language governing permissions and limitations under the License."
   ]
  },
  {
   "cell_type": "code",
   "execution_count": null,
   "metadata": {},
   "outputs": [],
   "source": []
  }
 ],
 "metadata": {
  "environment": {
   "name": "tf2-gpu.2-6.m78",
   "type": "gcloud",
   "uri": "gcr.io/deeplearning-platform-release/tf2-gpu.2-6:m78"
  },
  "kernelspec": {
   "display_name": "Python 3",
   "language": "python",
   "name": "python3"
  },
  "language_info": {
   "codemirror_mode": {
    "name": "ipython",
    "version": 3
   },
   "file_extension": ".py",
   "mimetype": "text/x-python",
   "name": "python",
   "nbconvert_exporter": "python",
   "pygments_lexer": "ipython3",
   "version": "3.7.10"
  }
 },
 "nbformat": 4,
 "nbformat_minor": 4
}
