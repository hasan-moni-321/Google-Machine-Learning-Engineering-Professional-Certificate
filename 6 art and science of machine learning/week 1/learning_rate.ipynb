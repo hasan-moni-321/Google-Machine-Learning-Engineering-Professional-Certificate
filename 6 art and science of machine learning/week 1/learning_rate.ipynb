{
 "cells": [
  {
   "cell_type": "markdown",
   "metadata": {
    "colab_type": "text",
    "id": "rNdWfPXCjTjY"
   },
   "source": [
    "# Reviewing Learning Curve\n",
    "\n",
    "### Learning objectives\n",
    "\n",
    "1. Build and train a Keras Sequential model\n",
    "2. Specify various learning rates to a model\n",
    "3. Visualize the loss curves\n",
    "\n",
    "\n",
    "## Introduction \n",
    "\n",
    "\n",
    "In this notebook, you will observe learning curve change. You will use the Keras Sequential Model to build an ML model to predict housing prices.\n",
    "\n",
    "A learning curve is a plot of model learning performance over experience or time.\n",
    "\n",
    "Learning curves are a widely used diagnostic tool in machine learning for algorithms that learn from a training dataset incrementally. The model can be evaluated on the training dataset and on a hold out validation dataset after each update during training and plots of the measured performance can created to show learning curves. Reviewing learning curves of models during training can be used to diagnose problems with learning, such as an underfit or overfit model, as well as whether the training and validation datasets are suitably representative.\n",
    "\n",
    "Adam is an optimization algorithm that can be used instead of the classical stochastic gradient descent procedure to update network weights iterative based in training data. [How to use Learning Curves to Diagnose Machine Learning Model Performance](https://machinelearningmastery.com/learning-curves-for-diagnosing-machine-learning-model-performance/#:~:text=A%20learning%20curve%20is%20a,from%20a%20training%20dataset%20incrementally.&text=Learning%20curves%20are%20plots%20that,time%20in%20terms%20of%20experience).\n",
    "\n",
    "Each learning objective will correspond to a __#TODO__  in this student lab notebook -- try to complete this notebook first and then review the [solution notebook](https://github.com/GoogleCloudPlatform/training-data-analyst/blob/master/courses/machine_learning/deepdive2/art_and_science_of_ml/solutions/learning_rate.ipynb)\n"
   ]
  },
  {
   "cell_type": "markdown",
   "metadata": {
    "colab_type": "text",
    "id": "VxyBFc_kKazA"
   },
   "source": [
    "Start by importing the necessary libraries for this lab."
   ]
  },
  {
   "cell_type": "code",
   "execution_count": 1,
   "metadata": {},
   "outputs": [],
   "source": [
    "!sudo chown -R jupyter:jupyter /home/jupyter/training-data-analyst"
   ]
  },
  {
   "cell_type": "code",
   "execution_count": 2,
   "metadata": {},
   "outputs": [
    {
     "name": "stdout",
     "output_type": "stream",
     "text": [
      "Collecting sklearn\n",
      "  Downloading sklearn-0.0.tar.gz (1.1 kB)\n",
      "Requirement already satisfied: scikit-learn in /opt/conda/lib/python3.7/site-packages (from sklearn) (0.24.2)\n",
      "Requirement already satisfied: threadpoolctl>=2.0.0 in /opt/conda/lib/python3.7/site-packages (from scikit-learn->sklearn) (2.2.0)\n",
      "Requirement already satisfied: joblib>=0.11 in /opt/conda/lib/python3.7/site-packages (from scikit-learn->sklearn) (1.0.1)\n",
      "Requirement already satisfied: numpy>=1.13.3 in /opt/conda/lib/python3.7/site-packages (from scikit-learn->sklearn) (1.19.5)\n",
      "Requirement already satisfied: scipy>=0.19.1 in /opt/conda/lib/python3.7/site-packages (from scikit-learn->sklearn) (1.7.0)\n",
      "Building wheels for collected packages: sklearn\n",
      "  Building wheel for sklearn (setup.py) ... \u001b[?25ldone\n",
      "\u001b[?25h  Created wheel for sklearn: filename=sklearn-0.0-py2.py3-none-any.whl size=1316 sha256=16905a81e2c730221b40a12d78cfd904492f82e957b0d53495773031f0fc2e58\n",
      "  Stored in directory: /home/jupyter/.cache/pip/wheels/46/ef/c3/157e41f5ee1372d1be90b09f74f82b10e391eaacca8f22d33e\n",
      "Successfully built sklearn\n",
      "Installing collected packages: sklearn\n",
      "Successfully installed sklearn-0.0\n"
     ]
    }
   ],
   "source": [
    "# Install Sklearn\n",
    "!python3 -m pip install --user sklearn"
   ]
  },
  {
   "cell_type": "code",
   "execution_count": 5,
   "metadata": {
    "colab": {},
    "colab_type": "code",
    "id": "9dEreb4QKizj"
   },
   "outputs": [
    {
     "name": "stdout",
     "output_type": "stream",
     "text": [
      "TensorFlow version:  2.5.0\n"
     ]
    }
   ],
   "source": [
    "import os\n",
    "import tensorflow.keras\n",
    "\n",
    "import matplotlib.pyplot as plt\n",
    "import pandas as pd\n",
    "import tensorflow as tf\n",
    "\n",
    "from tensorflow import feature_column as fc\n",
    "from tensorflow.keras import layers\n",
    "from tensorflow import keras\n",
    "from tensorflow.keras import layers\n",
    "#from keras.optimizers import Adam\n",
    "#from keras.optimizers import SGD\n",
    "\n",
    "from sklearn.model_selection import train_test_split\n",
    "#from keras.utils import plot_model\n",
    "\n",
    "print(\"TensorFlow version: \",tf.version.VERSION)"
   ]
  },
  {
   "cell_type": "markdown",
   "metadata": {},
   "source": [
    "Many of the Google Machine Learning Courses Programming Exercises use the  [California Housing Dataset](https://developers.google.com/machine-learning/crash-course/california-housing-data-description\n",
    "), which contains data drawn from the 1990 U.S. Census.  Our lab dataset has been pre-processed so that there are no missing values.\n",
    "\n",
    "First, let's download the raw .csv data by copying the data from a cloud storage bucket.\n"
   ]
  },
  {
   "cell_type": "code",
   "execution_count": 6,
   "metadata": {},
   "outputs": [],
   "source": [
    "if not os.path.isdir(\"../data\"):\n",
    "    os.makedirs(\"../data\")"
   ]
  },
  {
   "cell_type": "code",
   "execution_count": 7,
   "metadata": {},
   "outputs": [
    {
     "name": "stdout",
     "output_type": "stream",
     "text": [
      "Copying gs://cloud-training-demos/feat_eng/housing/housing_pre-proc.csv...\n",
      "/ [1 files][  1.4 MiB/  1.4 MiB]                                                \n",
      "Operation completed over 1 objects/1.4 MiB.                                      \n"
     ]
    }
   ],
   "source": [
    "!gsutil cp gs://cloud-training-demos/feat_eng/housing/housing_pre-proc.csv ../data"
   ]
  },
  {
   "cell_type": "markdown",
   "metadata": {
    "colab_type": "text",
    "id": "lM6-n6xntv3t"
   },
   "source": [
    "Now, let's read in the dataset just copied from the cloud storage bucket and create a Pandas dataframe."
   ]
  },
  {
   "cell_type": "code",
   "execution_count": 8,
   "metadata": {
    "colab": {
     "base_uri": "https://localhost:8080/",
     "height": 222
    },
    "colab_type": "code",
    "id": "REZ57BXCLdfG",
    "outputId": "a6ef2eda-c7eb-4e2d-92e4-e7fcaa20b0af"
   },
   "outputs": [
    {
     "data": {
      "text/html": [
       "<div>\n",
       "<style scoped>\n",
       "    .dataframe tbody tr th:only-of-type {\n",
       "        vertical-align: middle;\n",
       "    }\n",
       "\n",
       "    .dataframe tbody tr th {\n",
       "        vertical-align: top;\n",
       "    }\n",
       "\n",
       "    .dataframe thead th {\n",
       "        text-align: right;\n",
       "    }\n",
       "</style>\n",
       "<table border=\"1\" class=\"dataframe\">\n",
       "  <thead>\n",
       "    <tr style=\"text-align: right;\">\n",
       "      <th></th>\n",
       "      <th>longitude</th>\n",
       "      <th>latitude</th>\n",
       "      <th>housing_median_age</th>\n",
       "      <th>total_rooms</th>\n",
       "      <th>total_bedrooms</th>\n",
       "      <th>population</th>\n",
       "      <th>households</th>\n",
       "      <th>median_income</th>\n",
       "      <th>median_house_value</th>\n",
       "      <th>ocean_proximity</th>\n",
       "    </tr>\n",
       "  </thead>\n",
       "  <tbody>\n",
       "    <tr>\n",
       "      <th>0</th>\n",
       "      <td>-122.23</td>\n",
       "      <td>37.88</td>\n",
       "      <td>41.0</td>\n",
       "      <td>880.0</td>\n",
       "      <td>129.0</td>\n",
       "      <td>322.0</td>\n",
       "      <td>126.0</td>\n",
       "      <td>8.3252</td>\n",
       "      <td>452600.0</td>\n",
       "      <td>NEAR BAY</td>\n",
       "    </tr>\n",
       "    <tr>\n",
       "      <th>1</th>\n",
       "      <td>-122.22</td>\n",
       "      <td>37.86</td>\n",
       "      <td>21.0</td>\n",
       "      <td>7099.0</td>\n",
       "      <td>1106.0</td>\n",
       "      <td>2401.0</td>\n",
       "      <td>1138.0</td>\n",
       "      <td>8.3014</td>\n",
       "      <td>358500.0</td>\n",
       "      <td>NEAR BAY</td>\n",
       "    </tr>\n",
       "    <tr>\n",
       "      <th>2</th>\n",
       "      <td>-122.24</td>\n",
       "      <td>37.85</td>\n",
       "      <td>52.0</td>\n",
       "      <td>1467.0</td>\n",
       "      <td>190.0</td>\n",
       "      <td>496.0</td>\n",
       "      <td>177.0</td>\n",
       "      <td>7.2574</td>\n",
       "      <td>352100.0</td>\n",
       "      <td>NEAR BAY</td>\n",
       "    </tr>\n",
       "    <tr>\n",
       "      <th>3</th>\n",
       "      <td>-122.25</td>\n",
       "      <td>37.85</td>\n",
       "      <td>52.0</td>\n",
       "      <td>1274.0</td>\n",
       "      <td>235.0</td>\n",
       "      <td>558.0</td>\n",
       "      <td>219.0</td>\n",
       "      <td>5.6431</td>\n",
       "      <td>341300.0</td>\n",
       "      <td>NEAR BAY</td>\n",
       "    </tr>\n",
       "    <tr>\n",
       "      <th>4</th>\n",
       "      <td>-122.25</td>\n",
       "      <td>37.85</td>\n",
       "      <td>52.0</td>\n",
       "      <td>1627.0</td>\n",
       "      <td>280.0</td>\n",
       "      <td>565.0</td>\n",
       "      <td>259.0</td>\n",
       "      <td>3.8462</td>\n",
       "      <td>342200.0</td>\n",
       "      <td>NEAR BAY</td>\n",
       "    </tr>\n",
       "  </tbody>\n",
       "</table>\n",
       "</div>"
      ],
      "text/plain": [
       "   longitude  latitude  housing_median_age  total_rooms  total_bedrooms  \\\n",
       "0    -122.23     37.88                41.0        880.0           129.0   \n",
       "1    -122.22     37.86                21.0       7099.0          1106.0   \n",
       "2    -122.24     37.85                52.0       1467.0           190.0   \n",
       "3    -122.25     37.85                52.0       1274.0           235.0   \n",
       "4    -122.25     37.85                52.0       1627.0           280.0   \n",
       "\n",
       "   population  households  median_income  median_house_value ocean_proximity  \n",
       "0       322.0       126.0         8.3252            452600.0        NEAR BAY  \n",
       "1      2401.0      1138.0         8.3014            358500.0        NEAR BAY  \n",
       "2       496.0       177.0         7.2574            352100.0        NEAR BAY  \n",
       "3       558.0       219.0         5.6431            341300.0        NEAR BAY  \n",
       "4       565.0       259.0         3.8462            342200.0        NEAR BAY  "
      ]
     },
     "execution_count": 8,
     "metadata": {},
     "output_type": "execute_result"
    }
   ],
   "source": [
    "housing_df = pd.read_csv('../data/housing_pre-proc.csv', error_bad_lines=False)\n",
    "housing_df.head()"
   ]
  },
  {
   "cell_type": "markdown",
   "metadata": {},
   "source": [
    "We can use .describe() to see some summary statistics for the numeric fields in our dataframe. Note, for example, the count row and corresponding columns. The count shows 20433.000000 for all feature columns. Thus, there are no missing values."
   ]
  },
  {
   "cell_type": "markdown",
   "metadata": {
    "colab_type": "text",
    "id": "u0zhLtQqMPem"
   },
   "source": [
    "####  Split the dataset for ML\n",
    "\n",
    "The dataset we loaded was a single CSV file. We will split this into train, validation, and test sets.\n"
   ]
  },
  {
   "cell_type": "code",
   "execution_count": 9,
   "metadata": {
    "colab": {
     "base_uri": "https://localhost:8080/",
     "height": 69
    },
    "colab_type": "code",
    "id": "YEOpw7LhMYsI",
    "outputId": "6161a660-7133-465a-d754-d7acae2b68c8"
   },
   "outputs": [
    {
     "name": "stdout",
     "output_type": "stream",
     "text": [
      "13076 train examples\n",
      "3270 validation examples\n",
      "4087 test examples\n"
     ]
    }
   ],
   "source": [
    "train, test = train_test_split(housing_df, test_size=0.2)\n",
    "train, val = train_test_split(train, test_size=0.2)\n",
    "\n",
    "print(len(train), 'train examples')\n",
    "print(len(val), 'validation examples')\n",
    "print(len(test), 'test examples')\n",
    "\n",
    "train.to_csv('../data/housing-train.csv', encoding='utf-8', index=False)\n",
    "val.to_csv('../data/housing-val.csv', encoding='utf-8', index=False)\n",
    "test.to_csv('../data/housing-test.csv', encoding='utf-8', index=False)"
   ]
  },
  {
   "cell_type": "code",
   "execution_count": 10,
   "metadata": {},
   "outputs": [],
   "source": [
    "# A utility method to create a tf.data dataset from a Pandas Dataframe\n",
    "\n",
    "def df_to_dataset(dataframe, shuffle=True, batch_size=32):\n",
    "    dataframe = dataframe.copy()\n",
    "    labels = dataframe.pop('median_house_value')\n",
    "    ds = tf.data.Dataset.from_tensor_slices((dict(dataframe), labels))\n",
    "    if shuffle:\n",
    "        ds = ds.shuffle(buffer_size=len(dataframe))\n",
    "    ds = ds.batch(batch_size)\n",
    "    return ds\n",
    "\n",
    "# Next we initialize the training and validation datasets.\n",
    "batch_size = 32\n",
    "train_ds = df_to_dataset(train)\n",
    "val_ds = df_to_dataset(val, shuffle=False, batch_size=batch_size)\n",
    "\n",
    "# Input Pipeline\n",
    "numeric_cols = ['longitude', 'latitude', 'housing_median_age', 'total_rooms',\n",
    "                'total_bedrooms', 'population', 'households', 'median_income']\n",
    "\n",
    "# Next, we scale the numerical feature columns that we assigned to the variable \"numeric cols\".\n",
    "# Scalar def get_scal(feature):\n",
    "def get_scal(feature):\n",
    "    def minmax(x):\n",
    "        mini = train[feature].min()\n",
    "        maxi = train[feature].max()\n",
    "        return (x - mini)/(maxi-mini)\n",
    "        return(minmax)\n",
    "    \n",
    "feature_columns = []\n",
    "for header in numeric_cols:\n",
    "    scal_input_fn = get_scal(header)\n",
    "    feature_columns.append(fc.numeric_column(header,\n",
    "                                             normalizer_fn=scal_input_fn))\n"
   ]
  },
  {
   "cell_type": "markdown",
   "metadata": {
    "colab_type": "text",
    "id": "9Ug3hB8Sl0jO"
   },
   "source": [
    "### Using the Keras Sequential Model\n",
    "\n",
    "Next, we will run this cell to compile and fit the Keras Sequential model."
   ]
  },
  {
   "cell_type": "markdown",
   "metadata": {},
   "source": [
    "**Lab Task #1:** Building the model"
   ]
  },
  {
   "cell_type": "markdown",
   "metadata": {},
   "source": [
    "## Model 1 - hard coding the learning rate to .5"
   ]
  },
  {
   "cell_type": "markdown",
   "metadata": {},
   "source": [
    "**Lab Task #2:** Specify various learning rates to model"
   ]
  },
  {
   "cell_type": "code",
   "execution_count": 11,
   "metadata": {},
   "outputs": [
    {
     "name": "stdout",
     "output_type": "stream",
     "text": [
      "Epoch 1/32\n",
      "WARNING:tensorflow:Layers in a Sequential model should only have a single input tensor, but we receive a <class 'dict'> input: {'longitude': <tf.Tensor 'ExpandDims_3:0' shape=(None, 1) dtype=float64>, 'latitude': <tf.Tensor 'ExpandDims_2:0' shape=(None, 1) dtype=float64>, 'housing_median_age': <tf.Tensor 'ExpandDims_1:0' shape=(None, 1) dtype=float64>, 'total_rooms': <tf.Tensor 'ExpandDims_8:0' shape=(None, 1) dtype=float64>, 'total_bedrooms': <tf.Tensor 'ExpandDims_7:0' shape=(None, 1) dtype=float64>, 'population': <tf.Tensor 'ExpandDims_6:0' shape=(None, 1) dtype=float64>, 'households': <tf.Tensor 'ExpandDims:0' shape=(None, 1) dtype=float64>, 'median_income': <tf.Tensor 'ExpandDims_4:0' shape=(None, 1) dtype=float64>, 'ocean_proximity': <tf.Tensor 'ExpandDims_5:0' shape=(None, 1) dtype=string>}\n",
      "Consider rewriting this model with the Functional API.\n",
      "WARNING:tensorflow:Layers in a Sequential model should only have a single input tensor, but we receive a <class 'dict'> input: {'longitude': <tf.Tensor 'ExpandDims_3:0' shape=(None, 1) dtype=float64>, 'latitude': <tf.Tensor 'ExpandDims_2:0' shape=(None, 1) dtype=float64>, 'housing_median_age': <tf.Tensor 'ExpandDims_1:0' shape=(None, 1) dtype=float64>, 'total_rooms': <tf.Tensor 'ExpandDims_8:0' shape=(None, 1) dtype=float64>, 'total_bedrooms': <tf.Tensor 'ExpandDims_7:0' shape=(None, 1) dtype=float64>, 'population': <tf.Tensor 'ExpandDims_6:0' shape=(None, 1) dtype=float64>, 'households': <tf.Tensor 'ExpandDims:0' shape=(None, 1) dtype=float64>, 'median_income': <tf.Tensor 'ExpandDims_4:0' shape=(None, 1) dtype=float64>, 'ocean_proximity': <tf.Tensor 'ExpandDims_5:0' shape=(None, 1) dtype=string>}\n",
      "Consider rewriting this model with the Functional API.\n",
      "409/409 [==============================] - ETA: 0s - loss: 56792494080.0000 - mse: 56792494080.0000WARNING:tensorflow:Layers in a Sequential model should only have a single input tensor, but we receive a <class 'dict'> input: {'longitude': <tf.Tensor 'ExpandDims_3:0' shape=(None, 1) dtype=float64>, 'latitude': <tf.Tensor 'ExpandDims_2:0' shape=(None, 1) dtype=float64>, 'housing_median_age': <tf.Tensor 'ExpandDims_1:0' shape=(None, 1) dtype=float64>, 'total_rooms': <tf.Tensor 'ExpandDims_8:0' shape=(None, 1) dtype=float64>, 'total_bedrooms': <tf.Tensor 'ExpandDims_7:0' shape=(None, 1) dtype=float64>, 'population': <tf.Tensor 'ExpandDims_6:0' shape=(None, 1) dtype=float64>, 'households': <tf.Tensor 'ExpandDims:0' shape=(None, 1) dtype=float64>, 'median_income': <tf.Tensor 'ExpandDims_4:0' shape=(None, 1) dtype=float64>, 'ocean_proximity': <tf.Tensor 'ExpandDims_5:0' shape=(None, 1) dtype=string>}\n",
      "Consider rewriting this model with the Functional API.\n",
      "409/409 [==============================] - 4s 8ms/step - loss: 56792494080.0000 - mse: 56792494080.0000 - val_loss: 55115448320.0000 - val_mse: 55115448320.0000\n",
      "Epoch 2/32\n",
      "409/409 [==============================] - 3s 7ms/step - loss: 56706199552.0000 - mse: 56706199552.0000 - val_loss: 55032004608.0000 - val_mse: 55032004608.0000\n",
      "Epoch 3/32\n",
      "409/409 [==============================] - 2s 5ms/step - loss: 56621621248.0000 - mse: 56621621248.0000 - val_loss: 54948761600.0000 - val_mse: 54948761600.0000\n",
      "Epoch 4/32\n",
      "409/409 [==============================] - 3s 7ms/step - loss: 56537350144.0000 - mse: 56537350144.0000 - val_loss: 54865911808.0000 - val_mse: 54865911808.0000\n",
      "Epoch 5/32\n",
      "409/409 [==============================] - 2s 6ms/step - loss: 56453038080.0000 - mse: 56453038080.0000 - val_loss: 54782857216.0000 - val_mse: 54782857216.0000\n",
      "Epoch 6/32\n",
      "409/409 [==============================] - 3s 6ms/step - loss: 56368832512.0000 - mse: 56368832512.0000 - val_loss: 54699974656.0000 - val_mse: 54699974656.0000\n",
      "Epoch 7/32\n",
      "409/409 [==============================] - 3s 7ms/step - loss: 56284798976.0000 - mse: 56284798976.0000 - val_loss: 54617305088.0000 - val_mse: 54617305088.0000\n",
      "Epoch 8/32\n",
      "409/409 [==============================] - 3s 7ms/step - loss: 56200830976.0000 - mse: 56200830976.0000 - val_loss: 54534713344.0000 - val_mse: 54534713344.0000\n",
      "Epoch 9/32\n",
      "409/409 [==============================] - 2s 5ms/step - loss: 56116953088.0000 - mse: 56116953088.0000 - val_loss: 54452146176.0000 - val_mse: 54452146176.0000\n",
      "Epoch 10/32\n",
      "409/409 [==============================] - 3s 7ms/step - loss: 56033157120.0000 - mse: 56033157120.0000 - val_loss: 54369677312.0000 - val_mse: 54369677312.0000\n",
      "Epoch 11/32\n",
      "409/409 [==============================] - 3s 7ms/step - loss: 55949361152.0000 - mse: 55949361152.0000 - val_loss: 54287183872.0000 - val_mse: 54287183872.0000\n",
      "Epoch 12/32\n",
      "409/409 [==============================] - 3s 6ms/step - loss: 55865671680.0000 - mse: 55865671680.0000 - val_loss: 54204915712.0000 - val_mse: 54204915712.0000\n",
      "Epoch 13/32\n",
      "409/409 [==============================] - 3s 7ms/step - loss: 55782080512.0000 - mse: 55782080512.0000 - val_loss: 54122553344.0000 - val_mse: 54122553344.0000\n",
      "Epoch 14/32\n",
      "409/409 [==============================] - 3s 6ms/step - loss: 55698546688.0000 - mse: 55698546688.0000 - val_loss: 54040444928.0000 - val_mse: 54040444928.0000\n",
      "Epoch 15/32\n",
      "409/409 [==============================] - 3s 7ms/step - loss: 55615107072.0000 - mse: 55615107072.0000 - val_loss: 53958344704.0000 - val_mse: 53958344704.0000\n",
      "Epoch 16/32\n",
      "409/409 [==============================] - 3s 6ms/step - loss: 55531868160.0000 - mse: 55531868160.0000 - val_loss: 53876371456.0000 - val_mse: 53876371456.0000\n",
      "Epoch 17/32\n",
      "409/409 [==============================] - 3s 6ms/step - loss: 55448645632.0000 - mse: 55448645632.0000 - val_loss: 53794533376.0000 - val_mse: 53794533376.0000\n",
      "Epoch 18/32\n",
      "409/409 [==============================] - 3s 7ms/step - loss: 55365455872.0000 - mse: 55365455872.0000 - val_loss: 53712748544.0000 - val_mse: 53712748544.0000\n",
      "Epoch 19/32\n",
      "409/409 [==============================] - 3s 7ms/step - loss: 55282466816.0000 - mse: 55282466816.0000 - val_loss: 53630992384.0000 - val_mse: 53630992384.0000\n",
      "Epoch 20/32\n",
      "409/409 [==============================] - 2s 5ms/step - loss: 55199490048.0000 - mse: 55199490048.0000 - val_loss: 53549424640.0000 - val_mse: 53549424640.0000\n",
      "Epoch 21/32\n",
      "409/409 [==============================] - 3s 8ms/step - loss: 55116570624.0000 - mse: 55116570624.0000 - val_loss: 53467766784.0000 - val_mse: 53467766784.0000\n",
      "Epoch 22/32\n",
      "409/409 [==============================] - 3s 7ms/step - loss: 55033753600.0000 - mse: 55033753600.0000 - val_loss: 53386293248.0000 - val_mse: 53386293248.0000\n",
      "Epoch 23/32\n",
      "409/409 [==============================] - 2s 5ms/step - loss: 54951034880.0000 - mse: 54951034880.0000 - val_loss: 53304918016.0000 - val_mse: 53304918016.0000\n",
      "Epoch 24/32\n",
      "409/409 [==============================] - 3s 7ms/step - loss: 54868353024.0000 - mse: 54868353024.0000 - val_loss: 53223579648.0000 - val_mse: 53223579648.0000\n",
      "Epoch 25/32\n",
      "409/409 [==============================] - 3s 6ms/step - loss: 54785806336.0000 - mse: 54785806336.0000 - val_loss: 53142274048.0000 - val_mse: 53142274048.0000\n",
      "Epoch 26/32\n",
      "409/409 [==============================] - 3s 6ms/step - loss: 54703345664.0000 - mse: 54703345664.0000 - val_loss: 53061251072.0000 - val_mse: 53061251072.0000\n",
      "Epoch 27/32\n",
      "409/409 [==============================] - 3s 8ms/step - loss: 54620897280.0000 - mse: 54620897280.0000 - val_loss: 52980170752.0000 - val_mse: 52980170752.0000\n",
      "Epoch 28/32\n",
      "409/409 [==============================] - 3s 6ms/step - loss: 54538575872.0000 - mse: 54538575872.0000 - val_loss: 52899229696.0000 - val_mse: 52899229696.0000\n",
      "Epoch 29/32\n",
      "409/409 [==============================] - 2s 5ms/step - loss: 54456369152.0000 - mse: 54456369152.0000 - val_loss: 52818305024.0000 - val_mse: 52818305024.0000\n",
      "Epoch 30/32\n",
      "409/409 [==============================] - 3s 7ms/step - loss: 54374309888.0000 - mse: 54374309888.0000 - val_loss: 52737536000.0000 - val_mse: 52737536000.0000\n",
      "Epoch 31/32\n",
      "409/409 [==============================] - 3s 7ms/step - loss: 54292246528.0000 - mse: 54292246528.0000 - val_loss: 52656775168.0000 - val_mse: 52656775168.0000\n",
      "Epoch 32/32\n",
      "409/409 [==============================] - 2s 5ms/step - loss: 54210269184.0000 - mse: 54210269184.0000 - val_loss: 52576178176.0000 - val_mse: 52576178176.0000\n"
     ]
    }
   ],
   "source": [
    "# Model create\n",
    "\n",
    "# TODO 1\n",
    "# TODO -- Your code here.\n",
    "feature_layer = tf.keras.layers.DenseFeatures(feature_columns, dtype='float64')\n",
    "\n",
    "model = tf.keras.Sequential([\n",
    "  feature_layer,\n",
    "  layers.Dense(12, input_dim=8, activation='relu'),\n",
    "  layers.Dense(8, activation='relu'),\n",
    "  layers.Dense(1, activation='linear',  name='median_house_value')\n",
    "])\n",
    "\n",
    "\n",
    "# Model compile\n",
    "# TODO 2a\n",
    "# TODO -- Your code here.\n",
    "opt = keras.optimizers.Adam(learning_rate=.5)\n",
    "model.compile(optimizer=opt,\n",
    "              loss='mse',\n",
    "              metrics=['mse'])\n",
    "\n",
    "# Model Fit\n",
    "history = model.fit(train_ds,\n",
    "                    validation_data=val_ds,\n",
    "                    epochs=32)"
   ]
  },
  {
   "cell_type": "code",
   "execution_count": 12,
   "metadata": {},
   "outputs": [
    {
     "data": {
      "image/png": "[encoded data removed]",
      "text/plain": [
       "<Figure size 720x360 with 2 Axes>"
      ]
     },
     "metadata": {
      "needs_background": "light"
     },
     "output_type": "display_data"
    }
   ],
   "source": [
    "def plot_curves(history, metrics):\n",
    "    nrows = 1\n",
    "    ncols = 2\n",
    "    fig = plt.figure(figsize=(10, 5))\n",
    "\n",
    "    for idx, key in enumerate(metrics):  \n",
    "        ax = fig.add_subplot(nrows, ncols, idx+1)\n",
    "        plt.plot(history.history[key])\n",
    "        plt.plot(history.history['val_{}'.format(key)])\n",
    "        plt.title('model {}'.format(key))\n",
    "        plt.ylabel(key)\n",
    "        plt.xlabel('epoch')\n",
    "        plt.legend(['train', 'validation'], loc='upper left'); \n",
    "plot_curves(history, ['loss', 'mse'])"
   ]
  },
  {
   "cell_type": "markdown",
   "metadata": {},
   "source": [
    "## Model 2 - hard coding the learning rate to .1"
   ]
  },
  {
   "cell_type": "code",
   "execution_count": 13,
   "metadata": {},
   "outputs": [
    {
     "name": "stdout",
     "output_type": "stream",
     "text": [
      "Epoch 1/32\n",
      "WARNING:tensorflow:Layers in a Sequential model should only have a single input tensor, but we receive a <class 'dict'> input: {'longitude': <tf.Tensor 'ExpandDims_3:0' shape=(None, 1) dtype=float64>, 'latitude': <tf.Tensor 'ExpandDims_2:0' shape=(None, 1) dtype=float64>, 'housing_median_age': <tf.Tensor 'ExpandDims_1:0' shape=(None, 1) dtype=float64>, 'total_rooms': <tf.Tensor 'ExpandDims_8:0' shape=(None, 1) dtype=float64>, 'total_bedrooms': <tf.Tensor 'ExpandDims_7:0' shape=(None, 1) dtype=float64>, 'population': <tf.Tensor 'ExpandDims_6:0' shape=(None, 1) dtype=float64>, 'households': <tf.Tensor 'ExpandDims:0' shape=(None, 1) dtype=float64>, 'median_income': <tf.Tensor 'ExpandDims_4:0' shape=(None, 1) dtype=float64>, 'ocean_proximity': <tf.Tensor 'ExpandDims_5:0' shape=(None, 1) dtype=string>}\n",
      "Consider rewriting this model with the Functional API.\n",
      "WARNING:tensorflow:Layers in a Sequential model should only have a single input tensor, but we receive a <class 'dict'> input: {'longitude': <tf.Tensor 'ExpandDims_3:0' shape=(None, 1) dtype=float64>, 'latitude': <tf.Tensor 'ExpandDims_2:0' shape=(None, 1) dtype=float64>, 'housing_median_age': <tf.Tensor 'ExpandDims_1:0' shape=(None, 1) dtype=float64>, 'total_rooms': <tf.Tensor 'ExpandDims_8:0' shape=(None, 1) dtype=float64>, 'total_bedrooms': <tf.Tensor 'ExpandDims_7:0' shape=(None, 1) dtype=float64>, 'population': <tf.Tensor 'ExpandDims_6:0' shape=(None, 1) dtype=float64>, 'households': <tf.Tensor 'ExpandDims:0' shape=(None, 1) dtype=float64>, 'median_income': <tf.Tensor 'ExpandDims_4:0' shape=(None, 1) dtype=float64>, 'ocean_proximity': <tf.Tensor 'ExpandDims_5:0' shape=(None, 1) dtype=string>}\n",
      "Consider rewriting this model with the Functional API.\n",
      "405/409 [============================>.] - ETA: 0s - loss: 16501963776.0000 - mse: 16501963776.0000WARNING:tensorflow:Layers in a Sequential model should only have a single input tensor, but we receive a <class 'dict'> input: {'longitude': <tf.Tensor 'ExpandDims_3:0' shape=(None, 1) dtype=float64>, 'latitude': <tf.Tensor 'ExpandDims_2:0' shape=(None, 1) dtype=float64>, 'housing_median_age': <tf.Tensor 'ExpandDims_1:0' shape=(None, 1) dtype=float64>, 'total_rooms': <tf.Tensor 'ExpandDims_8:0' shape=(None, 1) dtype=float64>, 'total_bedrooms': <tf.Tensor 'ExpandDims_7:0' shape=(None, 1) dtype=float64>, 'population': <tf.Tensor 'ExpandDims_6:0' shape=(None, 1) dtype=float64>, 'households': <tf.Tensor 'ExpandDims:0' shape=(None, 1) dtype=float64>, 'median_income': <tf.Tensor 'ExpandDims_4:0' shape=(None, 1) dtype=float64>, 'ocean_proximity': <tf.Tensor 'ExpandDims_5:0' shape=(None, 1) dtype=string>}\n",
      "Consider rewriting this model with the Functional API.\n",
      "409/409 [==============================] - 4s 9ms/step - loss: 16472003584.0000 - mse: 16472003584.0000 - val_loss: 10416203776.0000 - val_mse: 10416203776.0000\n",
      "Epoch 2/32\n",
      "409/409 [==============================] - 3s 7ms/step - loss: 10274086912.0000 - mse: 10274086912.0000 - val_loss: 10337471488.0000 - val_mse: 10337471488.0000\n",
      "Epoch 3/32\n",
      "409/409 [==============================] - 3s 6ms/step - loss: 9210541056.0000 - mse: 9210541056.0000 - val_loss: 10310584320.0000 - val_mse: 10310584320.0000\n",
      "Epoch 4/32\n",
      "409/409 [==============================] - 3s 7ms/step - loss: 8584635392.0000 - mse: 8584635392.0000 - val_loss: 7557513216.0000 - val_mse: 7557513216.0000\n",
      "Epoch 5/32\n",
      "409/409 [==============================] - 3s 6ms/step - loss: 8031389184.0000 - mse: 8031389184.0000 - val_loss: 8596808704.0000 - val_mse: 8596808704.0000\n",
      "Epoch 6/32\n",
      "409/409 [==============================] - 2s 5ms/step - loss: 7555510272.0000 - mse: 7555510272.0000 - val_loss: 7260971520.0000 - val_mse: 7260971520.0000\n",
      "Epoch 7/32\n",
      "409/409 [==============================] - 3s 6ms/step - loss: 7202861568.0000 - mse: 7202861568.0000 - val_loss: 8407899136.0000 - val_mse: 8407899136.0000\n",
      "Epoch 8/32\n",
      "409/409 [==============================] - 3s 7ms/step - loss: 7448140288.0000 - mse: 7448140288.0000 - val_loss: 6938876416.0000 - val_mse: 6938876416.0000\n",
      "Epoch 9/32\n",
      "409/409 [==============================] - 3s 6ms/step - loss: 7296454144.0000 - mse: 7296454144.0000 - val_loss: 10853209088.0000 - val_mse: 10853209088.0000\n",
      "Epoch 10/32\n",
      "409/409 [==============================] - 4s 8ms/step - loss: 6900395008.0000 - mse: 6900395008.0000 - val_loss: 6213295616.0000 - val_mse: 6213295616.0000\n",
      "Epoch 11/32\n",
      "409/409 [==============================] - 3s 7ms/step - loss: 6633097216.0000 - mse: 6633097216.0000 - val_loss: 6657062912.0000 - val_mse: 6657062912.0000\n",
      "Epoch 12/32\n",
      "409/409 [==============================] - 2s 5ms/step - loss: 6657846784.0000 - mse: 6657846784.0000 - val_loss: 5789856256.0000 - val_mse: 5789856256.0000\n",
      "Epoch 13/32\n",
      "409/409 [==============================] - 3s 6ms/step - loss: 6301171200.0000 - mse: 6301171200.0000 - val_loss: 7021372416.0000 - val_mse: 7021372416.0000\n",
      "Epoch 14/32\n",
      "409/409 [==============================] - 3s 6ms/step - loss: 6199110144.0000 - mse: 6199110144.0000 - val_loss: 5536253440.0000 - val_mse: 5536253440.0000\n",
      "Epoch 15/32\n",
      "409/409 [==============================] - 2s 6ms/step - loss: 6292001792.0000 - mse: 6292001792.0000 - val_loss: 10448917504.0000 - val_mse: 10448917504.0000\n",
      "Epoch 16/32\n",
      "409/409 [==============================] - 3s 6ms/step - loss: 6211637248.0000 - mse: 6211637248.0000 - val_loss: 7776038912.0000 - val_mse: 7776038912.0000\n",
      "Epoch 17/32\n",
      "409/409 [==============================] - 3s 6ms/step - loss: 6314476032.0000 - mse: 6314476032.0000 - val_loss: 5526188032.0000 - val_mse: 5526188032.0000\n",
      "Epoch 18/32\n",
      "409/409 [==============================] - 3s 7ms/step - loss: 6434241536.0000 - mse: 6434241536.0000 - val_loss: 6318274560.0000 - val_mse: 6318274560.0000\n",
      "Epoch 19/32\n",
      "409/409 [==============================] - 2s 5ms/step - loss: 5921824256.0000 - mse: 5921824256.0000 - val_loss: 5399876096.0000 - val_mse: 5399876096.0000\n",
      "Epoch 20/32\n",
      "409/409 [==============================] - 3s 8ms/step - loss: 6533490176.0000 - mse: 6533490176.0000 - val_loss: 6177358336.0000 - val_mse: 6177358336.0000\n",
      "Epoch 21/32\n",
      "409/409 [==============================] - 3s 8ms/step - loss: 6214046208.0000 - mse: 6214046208.0000 - val_loss: 5537725440.0000 - val_mse: 5537725440.0000\n",
      "Epoch 22/32\n",
      "409/409 [==============================] - 3s 7ms/step - loss: 6016728576.0000 - mse: 6016728576.0000 - val_loss: 5761658880.0000 - val_mse: 5761658880.0000\n",
      "Epoch 23/32\n",
      "409/409 [==============================] - 4s 8ms/step - loss: 5908677120.0000 - mse: 5908677120.0000 - val_loss: 5581030912.0000 - val_mse: 5581030912.0000\n",
      "Epoch 24/32\n",
      "409/409 [==============================] - 4s 9ms/step - loss: 6133882368.0000 - mse: 6133882368.0000 - val_loss: 8680221696.0000 - val_mse: 8680221696.0000\n",
      "Epoch 25/32\n",
      "409/409 [==============================] - 3s 8ms/step - loss: 5985727488.0000 - mse: 5985727488.0000 - val_loss: 5395940864.0000 - val_mse: 5395940864.0000\n",
      "Epoch 26/32\n",
      "409/409 [==============================] - 3s 7ms/step - loss: 6079048192.0000 - mse: 6079048192.0000 - val_loss: 5500952576.0000 - val_mse: 5500952576.0000\n",
      "Epoch 27/32\n",
      "409/409 [==============================] - 3s 7ms/step - loss: 5877999104.0000 - mse: 5877999104.0000 - val_loss: 5420180992.0000 - val_mse: 5420180992.0000\n",
      "Epoch 28/32\n",
      "409/409 [==============================] - 4s 8ms/step - loss: 6346478080.0000 - mse: 6346478080.0000 - val_loss: 5358810624.0000 - val_mse: 5358810624.0000\n",
      "Epoch 29/32\n",
      "409/409 [==============================] - 2s 6ms/step - loss: 6074223616.0000 - mse: 6074223616.0000 - val_loss: 5882519040.0000 - val_mse: 5882519040.0000\n",
      "Epoch 30/32\n",
      "409/409 [==============================] - 3s 8ms/step - loss: 5832468992.0000 - mse: 5832468992.0000 - val_loss: 6584926208.0000 - val_mse: 6584926208.0000\n",
      "Epoch 31/32\n",
      "409/409 [==============================] - 3s 6ms/step - loss: 6128316416.0000 - mse: 6128316416.0000 - val_loss: 8152592896.0000 - val_mse: 8152592896.0000\n",
      "Epoch 32/32\n",
      "409/409 [==============================] - 3s 8ms/step - loss: 6239062016.0000 - mse: 6239062016.0000 - val_loss: 5551406080.0000 - val_mse: 5551406080.0000\n"
     ]
    }
   ],
   "source": [
    "# Model create\n",
    "feature_layer = tf.keras.layers.DenseFeatures(feature_columns, dtype='float64')\n",
    "\n",
    "model = tf.keras.Sequential([\n",
    "  feature_layer,\n",
    "  layers.Dense(12, input_dim=8, activation='relu'),\n",
    "  layers.Dense(8, activation='relu'),\n",
    "  layers.Dense(1, activation='linear',  name='median_house_value')\n",
    "])\n",
    "\n",
    "# Model compile\n",
    "# TODO 2b\n",
    "# TODO -- Your code here.\n",
    "model.compile(optimizer=keras.optimizers.Adam(learning_rate=0.1),\n",
    "              loss='mse',\n",
    "              metrics=['mse'])\n",
    "\n",
    "# Model Fit\n",
    "history = model.fit(train_ds,\n",
    "                    validation_data=val_ds,\n",
    "                    epochs=32)"
   ]
  },
  {
   "cell_type": "code",
   "execution_count": 14,
   "metadata": {},
   "outputs": [
    {
     "data": {
      "image/png": "[encoded data removed]",
      "text/plain": [
       "<Figure size 720x360 with 2 Axes>"
      ]
     },
     "metadata": {
      "needs_background": "light"
     },
     "output_type": "display_data"
    }
   ],
   "source": [
    "def plot_curves(history, metrics):\n",
    "    nrows = 1\n",
    "    ncols = 2\n",
    "    fig = plt.figure(figsize=(10, 5))\n",
    "\n",
    "    for idx, key in enumerate(metrics):  \n",
    "        ax = fig.add_subplot(nrows, ncols, idx+1)\n",
    "        plt.plot(history.history[key])\n",
    "        plt.plot(history.history['val_{}'.format(key)])\n",
    "        plt.title('model {}'.format(key))\n",
    "        plt.ylabel(key)\n",
    "        plt.xlabel('epoch')\n",
    "        plt.legend(['train', 'validation'], loc='upper left');  \n",
    "plot_curves(history, ['loss', 'mse'])"
   ]
  },
  {
   "cell_type": "markdown",
   "metadata": {},
   "source": [
    "## Model 3 - hard coding the learning rate to .01 "
   ]
  },
  {
   "cell_type": "code",
   "execution_count": 15,
   "metadata": {},
   "outputs": [
    {
     "name": "stdout",
     "output_type": "stream",
     "text": [
      "Epoch 1/32\n",
      "WARNING:tensorflow:Layers in a Sequential model should only have a single input tensor, but we receive a <class 'dict'> input: {'longitude': <tf.Tensor 'ExpandDims_3:0' shape=(None, 1) dtype=float64>, 'latitude': <tf.Tensor 'ExpandDims_2:0' shape=(None, 1) dtype=float64>, 'housing_median_age': <tf.Tensor 'ExpandDims_1:0' shape=(None, 1) dtype=float64>, 'total_rooms': <tf.Tensor 'ExpandDims_8:0' shape=(None, 1) dtype=float64>, 'total_bedrooms': <tf.Tensor 'ExpandDims_7:0' shape=(None, 1) dtype=float64>, 'population': <tf.Tensor 'ExpandDims_6:0' shape=(None, 1) dtype=float64>, 'households': <tf.Tensor 'ExpandDims:0' shape=(None, 1) dtype=float64>, 'median_income': <tf.Tensor 'ExpandDims_4:0' shape=(None, 1) dtype=float64>, 'ocean_proximity': <tf.Tensor 'ExpandDims_5:0' shape=(None, 1) dtype=string>}\n",
      "Consider rewriting this model with the Functional API.\n",
      "WARNING:tensorflow:Layers in a Sequential model should only have a single input tensor, but we receive a <class 'dict'> input: {'longitude': <tf.Tensor 'ExpandDims_3:0' shape=(None, 1) dtype=float64>, 'latitude': <tf.Tensor 'ExpandDims_2:0' shape=(None, 1) dtype=float64>, 'housing_median_age': <tf.Tensor 'ExpandDims_1:0' shape=(None, 1) dtype=float64>, 'total_rooms': <tf.Tensor 'ExpandDims_8:0' shape=(None, 1) dtype=float64>, 'total_bedrooms': <tf.Tensor 'ExpandDims_7:0' shape=(None, 1) dtype=float64>, 'population': <tf.Tensor 'ExpandDims_6:0' shape=(None, 1) dtype=float64>, 'households': <tf.Tensor 'ExpandDims:0' shape=(None, 1) dtype=float64>, 'median_income': <tf.Tensor 'ExpandDims_4:0' shape=(None, 1) dtype=float64>, 'ocean_proximity': <tf.Tensor 'ExpandDims_5:0' shape=(None, 1) dtype=string>}\n",
      "Consider rewriting this model with the Functional API.\n",
      "405/409 [============================>.] - ETA: 0s - loss: 28303106048.0000 - mse: 28303106048.0000WARNING:tensorflow:Layers in a Sequential model should only have a single input tensor, but we receive a <class 'dict'> input: {'longitude': <tf.Tensor 'ExpandDims_3:0' shape=(None, 1) dtype=float64>, 'latitude': <tf.Tensor 'ExpandDims_2:0' shape=(None, 1) dtype=float64>, 'housing_median_age': <tf.Tensor 'ExpandDims_1:0' shape=(None, 1) dtype=float64>, 'total_rooms': <tf.Tensor 'ExpandDims_8:0' shape=(None, 1) dtype=float64>, 'total_bedrooms': <tf.Tensor 'ExpandDims_7:0' shape=(None, 1) dtype=float64>, 'population': <tf.Tensor 'ExpandDims_6:0' shape=(None, 1) dtype=float64>, 'households': <tf.Tensor 'ExpandDims:0' shape=(None, 1) dtype=float64>, 'median_income': <tf.Tensor 'ExpandDims_4:0' shape=(None, 1) dtype=float64>, 'ocean_proximity': <tf.Tensor 'ExpandDims_5:0' shape=(None, 1) dtype=string>}\n",
      "Consider rewriting this model with the Functional API.\n",
      "409/409 [==============================] - 5s 9ms/step - loss: 28257683456.0000 - mse: 28257683456.0000 - val_loss: 19205183488.0000 - val_mse: 19205183488.0000\n",
      "Epoch 2/32\n",
      "409/409 [==============================] - 3s 7ms/step - loss: 14258439168.0000 - mse: 14258439168.0000 - val_loss: 10958590976.0000 - val_mse: 10958590976.0000\n",
      "Epoch 3/32\n",
      "409/409 [==============================] - 2s 5ms/step - loss: 11177885696.0000 - mse: 11177885696.0000 - val_loss: 10717167616.0000 - val_mse: 10717167616.0000\n",
      "Epoch 4/32\n",
      "409/409 [==============================] - 4s 9ms/step - loss: 10830148608.0000 - mse: 10830148608.0000 - val_loss: 10305554432.0000 - val_mse: 10305554432.0000\n",
      "Epoch 5/32\n",
      "409/409 [==============================] - 4s 9ms/step - loss: 10415206400.0000 - mse: 10415206400.0000 - val_loss: 9965522944.0000 - val_mse: 9965522944.0000\n",
      "Epoch 6/32\n",
      "409/409 [==============================] - 3s 8ms/step - loss: 9917997056.0000 - mse: 9917997056.0000 - val_loss: 9420262400.0000 - val_mse: 9420262400.0000\n",
      "Epoch 7/32\n",
      "409/409 [==============================] - 4s 9ms/step - loss: 9552114688.0000 - mse: 9552114688.0000 - val_loss: 9333496832.0000 - val_mse: 9333496832.0000\n",
      "Epoch 8/32\n",
      "409/409 [==============================] - 3s 6ms/step - loss: 9017324544.0000 - mse: 9017324544.0000 - val_loss: 8550350336.0000 - val_mse: 8550350336.0000\n",
      "Epoch 9/32\n",
      "409/409 [==============================] - 4s 9ms/step - loss: 8572568064.0000 - mse: 8572568064.0000 - val_loss: 8420971520.0000 - val_mse: 8420971520.0000\n",
      "Epoch 10/32\n",
      "409/409 [==============================] - 4s 8ms/step - loss: 8203970560.0000 - mse: 8203970560.0000 - val_loss: 8064359424.0000 - val_mse: 8064359424.0000\n",
      "Epoch 11/32\n",
      "409/409 [==============================] - 3s 7ms/step - loss: 7839857152.0000 - mse: 7839857152.0000 - val_loss: 7892383744.0000 - val_mse: 7892383744.0000\n",
      "Epoch 12/32\n",
      "409/409 [==============================] - 4s 9ms/step - loss: 7588515840.0000 - mse: 7588515840.0000 - val_loss: 7479464960.0000 - val_mse: 7479464960.0000\n",
      "Epoch 13/32\n",
      "409/409 [==============================] - 4s 9ms/step - loss: 7371316224.0000 - mse: 7371316224.0000 - val_loss: 7465970688.0000 - val_mse: 7465970688.0000\n",
      "Epoch 14/32\n",
      "409/409 [==============================] - 3s 7ms/step - loss: 7107367424.0000 - mse: 7107367424.0000 - val_loss: 6946400256.0000 - val_mse: 6946400256.0000\n",
      "Epoch 15/32\n",
      "409/409 [==============================] - 3s 7ms/step - loss: 7012728832.0000 - mse: 7012728832.0000 - val_loss: 6902829568.0000 - val_mse: 6902829568.0000\n",
      "Epoch 16/32\n",
      "409/409 [==============================] - 4s 9ms/step - loss: 6804533248.0000 - mse: 6804533248.0000 - val_loss: 7070526976.0000 - val_mse: 7070526976.0000\n",
      "Epoch 17/32\n",
      "409/409 [==============================] - 3s 7ms/step - loss: 6775020544.0000 - mse: 6775020544.0000 - val_loss: 6340386816.0000 - val_mse: 6340386816.0000\n",
      "Epoch 18/32\n",
      "409/409 [==============================] - 3s 7ms/step - loss: 6567669760.0000 - mse: 6567669760.0000 - val_loss: 6190942208.0000 - val_mse: 6190942208.0000\n",
      "Epoch 19/32\n",
      "409/409 [==============================] - 4s 8ms/step - loss: 6476510720.0000 - mse: 6476510720.0000 - val_loss: 6035351552.0000 - val_mse: 6035351552.0000\n",
      "Epoch 20/32\n",
      "409/409 [==============================] - 3s 7ms/step - loss: 6337459200.0000 - mse: 6337459200.0000 - val_loss: 8183732736.0000 - val_mse: 8183732736.0000\n",
      "Epoch 21/32\n",
      "409/409 [==============================] - 4s 8ms/step - loss: 6190086144.0000 - mse: 6190086144.0000 - val_loss: 5743448576.0000 - val_mse: 5743448576.0000\n",
      "Epoch 22/32\n",
      "409/409 [==============================] - 3s 8ms/step - loss: 6042223616.0000 - mse: 6042223616.0000 - val_loss: 5620941312.0000 - val_mse: 5620941312.0000\n",
      "Epoch 23/32\n",
      "409/409 [==============================] - 3s 8ms/step - loss: 5937616384.0000 - mse: 5937616384.0000 - val_loss: 5844747264.0000 - val_mse: 5844747264.0000\n",
      "Epoch 24/32\n",
      "409/409 [==============================] - 4s 10ms/step - loss: 5873481728.0000 - mse: 5873481728.0000 - val_loss: 5566571008.0000 - val_mse: 5566571008.0000\n",
      "Epoch 25/32\n",
      "409/409 [==============================] - 3s 6ms/step - loss: 5695659008.0000 - mse: 5695659008.0000 - val_loss: 5377044992.0000 - val_mse: 5377044992.0000\n",
      "Epoch 26/32\n",
      "409/409 [==============================] - 4s 9ms/step - loss: 5759451136.0000 - mse: 5759451136.0000 - val_loss: 5958547968.0000 - val_mse: 5958547968.0000\n",
      "Epoch 27/32\n",
      "409/409 [==============================] - 4s 9ms/step - loss: 5737209344.0000 - mse: 5737209344.0000 - val_loss: 5207407104.0000 - val_mse: 5207407104.0000\n",
      "Epoch 28/32\n",
      "409/409 [==============================] - 4s 10ms/step - loss: 5578858496.0000 - mse: 5578858496.0000 - val_loss: 5330539008.0000 - val_mse: 5330539008.0000\n",
      "Epoch 29/32\n",
      "409/409 [==============================] - 3s 8ms/step - loss: 5557294592.0000 - mse: 5557294592.0000 - val_loss: 5756976640.0000 - val_mse: 5756976640.0000\n",
      "Epoch 30/32\n",
      "409/409 [==============================] - 4s 8ms/step - loss: 5454538240.0000 - mse: 5454538240.0000 - val_loss: 5109761024.0000 - val_mse: 5109761024.0000\n",
      "Epoch 31/32\n",
      "409/409 [==============================] - 3s 7ms/step - loss: 5467420672.0000 - mse: 5467420672.0000 - val_loss: 5045099520.0000 - val_mse: 5045099520.0000\n",
      "Epoch 32/32\n",
      "409/409 [==============================] - 4s 8ms/step - loss: 5441875968.0000 - mse: 5441875968.0000 - val_loss: 5069135872.0000 - val_mse: 5069135872.0000\n"
     ]
    }
   ],
   "source": [
    "# Model create\n",
    "\n",
    "feature_layer = tf.keras.layers.DenseFeatures(feature_columns, dtype='float64')\n",
    "\n",
    "model = tf.keras.Sequential([\n",
    "  feature_layer,\n",
    "  layers.Dense(12, input_dim=8, activation='relu'),\n",
    "  layers.Dense(8, activation='relu'),\n",
    "  layers.Dense(1, activation='linear',  name='median_house_value')\n",
    "])\n",
    "\n",
    "# Model compile\n",
    "# TODO 2c\n",
    "# TODO -- Your code here.\n",
    "opt = keras.optimizers.Adam(learning_rate=0.01)\n",
    "model.compile(optimizer=opt,\n",
    "              loss='mse',\n",
    "              metrics=['mse'])\n",
    "\n",
    "# Model Fit\n",
    "history = model.fit(train_ds,\n",
    "                    validation_data=val_ds,\n",
    "                    epochs=32)  # Increase Epochs to 32"
   ]
  },
  {
   "cell_type": "code",
   "execution_count": 31,
   "metadata": {},
   "outputs": [
    {
     "data": {
      "image/png": "[encoded data removed]",
      "text/plain": [
       "<Figure size 720x360 with 2 Axes>"
      ]
     },
     "metadata": {
      "needs_background": "light"
     },
     "output_type": "display_data"
    }
   ],
   "source": [
    "def plot_curves(history, metrics):\n",
    "    nrows = 1\n",
    "    ncols = 2\n",
    "    fig = plt.figure(figsize=(10, 5))\n",
    "\n",
    "    for idx, key in enumerate(metrics):  \n",
    "        ax = fig.add_subplot(nrows, ncols, idx+1)\n",
    "        plt.plot(history.history[key])\n",
    "        plt.plot(history.history['val_{}'.format(key)])\n",
    "        plt.title('model {}'.format(key))\n",
    "        plt.ylabel(key)\n",
    "        plt.xlabel('epoch')\n",
    "        plt.legend(['train', 'validation'], loc='upper left');  \n",
    "plot_curves(history, ['loss', 'mse'])"
   ]
  },
  {
   "cell_type": "markdown",
   "metadata": {},
   "source": [
    "## Model 4 - hard coding the learning rate to .001 "
   ]
  },
  {
   "cell_type": "code",
   "execution_count": 17,
   "metadata": {},
   "outputs": [
    {
     "name": "stdout",
     "output_type": "stream",
     "text": [
      "Epoch 1/32\n",
      "WARNING:tensorflow:Layers in a Sequential model should only have a single input tensor, but we receive a <class 'dict'> input: {'longitude': <tf.Tensor 'ExpandDims_3:0' shape=(None, 1) dtype=float64>, 'latitude': <tf.Tensor 'ExpandDims_2:0' shape=(None, 1) dtype=float64>, 'housing_median_age': <tf.Tensor 'ExpandDims_1:0' shape=(None, 1) dtype=float64>, 'total_rooms': <tf.Tensor 'ExpandDims_8:0' shape=(None, 1) dtype=float64>, 'total_bedrooms': <tf.Tensor 'ExpandDims_7:0' shape=(None, 1) dtype=float64>, 'population': <tf.Tensor 'ExpandDims_6:0' shape=(None, 1) dtype=float64>, 'households': <tf.Tensor 'ExpandDims:0' shape=(None, 1) dtype=float64>, 'median_income': <tf.Tensor 'ExpandDims_4:0' shape=(None, 1) dtype=float64>, 'ocean_proximity': <tf.Tensor 'ExpandDims_5:0' shape=(None, 1) dtype=string>}\n",
      "Consider rewriting this model with the Functional API.\n",
      "WARNING:tensorflow:Layers in a Sequential model should only have a single input tensor, but we receive a <class 'dict'> input: {'longitude': <tf.Tensor 'ExpandDims_3:0' shape=(None, 1) dtype=float64>, 'latitude': <tf.Tensor 'ExpandDims_2:0' shape=(None, 1) dtype=float64>, 'housing_median_age': <tf.Tensor 'ExpandDims_1:0' shape=(None, 1) dtype=float64>, 'total_rooms': <tf.Tensor 'ExpandDims_8:0' shape=(None, 1) dtype=float64>, 'total_bedrooms': <tf.Tensor 'ExpandDims_7:0' shape=(None, 1) dtype=float64>, 'population': <tf.Tensor 'ExpandDims_6:0' shape=(None, 1) dtype=float64>, 'households': <tf.Tensor 'ExpandDims:0' shape=(None, 1) dtype=float64>, 'median_income': <tf.Tensor 'ExpandDims_4:0' shape=(None, 1) dtype=float64>, 'ocean_proximity': <tf.Tensor 'ExpandDims_5:0' shape=(None, 1) dtype=string>}\n",
      "Consider rewriting this model with the Functional API.\n",
      "407/409 [============================>.] - ETA: 0s - loss: 52006379520.0000 - mse: 52006379520.0000WARNING:tensorflow:Layers in a Sequential model should only have a single input tensor, but we receive a <class 'dict'> input: {'longitude': <tf.Tensor 'ExpandDims_3:0' shape=(None, 1) dtype=float64>, 'latitude': <tf.Tensor 'ExpandDims_2:0' shape=(None, 1) dtype=float64>, 'housing_median_age': <tf.Tensor 'ExpandDims_1:0' shape=(None, 1) dtype=float64>, 'total_rooms': <tf.Tensor 'ExpandDims_8:0' shape=(None, 1) dtype=float64>, 'total_bedrooms': <tf.Tensor 'ExpandDims_7:0' shape=(None, 1) dtype=float64>, 'population': <tf.Tensor 'ExpandDims_6:0' shape=(None, 1) dtype=float64>, 'households': <tf.Tensor 'ExpandDims:0' shape=(None, 1) dtype=float64>, 'median_income': <tf.Tensor 'ExpandDims_4:0' shape=(None, 1) dtype=float64>, 'ocean_proximity': <tf.Tensor 'ExpandDims_5:0' shape=(None, 1) dtype=string>}\n",
      "Consider rewriting this model with the Functional API.\n",
      "409/409 [==============================] - 3s 7ms/step - loss: 52012130304.0000 - mse: 52012130304.0000 - val_loss: 39157956608.0000 - val_mse: 39157956608.0000\n",
      "Epoch 2/32\n",
      "409/409 [==============================] - 3s 8ms/step - loss: 30848854016.0000 - mse: 30848854016.0000 - val_loss: 24391917568.0000 - val_mse: 24391917568.0000\n",
      "Epoch 3/32\n",
      "409/409 [==============================] - 3s 7ms/step - loss: 27456124928.0000 - mse: 27456124928.0000 - val_loss: 23839670272.0000 - val_mse: 23839670272.0000\n",
      "Epoch 4/32\n",
      "409/409 [==============================] - 3s 7ms/step - loss: 26887895040.0000 - mse: 26887895040.0000 - val_loss: 23260076032.0000 - val_mse: 23260076032.0000\n",
      "Epoch 5/32\n",
      "409/409 [==============================] - 4s 8ms/step - loss: 25807118336.0000 - mse: 25807118336.0000 - val_loss: 22175698944.0000 - val_mse: 22175698944.0000\n",
      "Epoch 6/32\n",
      "409/409 [==============================] - 3s 8ms/step - loss: 24307640320.0000 - mse: 24307640320.0000 - val_loss: 20702156800.0000 - val_mse: 20702156800.0000\n",
      "Epoch 7/32\n",
      "409/409 [==============================] - 3s 7ms/step - loss: 22629470208.0000 - mse: 22629470208.0000 - val_loss: 19264198656.0000 - val_mse: 19264198656.0000\n",
      "Epoch 8/32\n",
      "409/409 [==============================] - 3s 8ms/step - loss: 20743593984.0000 - mse: 20743593984.0000 - val_loss: 17613150208.0000 - val_mse: 17613150208.0000\n",
      "Epoch 9/32\n",
      "409/409 [==============================] - 3s 7ms/step - loss: 18681911296.0000 - mse: 18681911296.0000 - val_loss: 15784724480.0000 - val_mse: 15784724480.0000\n",
      "Epoch 10/32\n",
      "409/409 [==============================] - 4s 9ms/step - loss: 16422152192.0000 - mse: 16422152192.0000 - val_loss: 14087382016.0000 - val_mse: 14087382016.0000\n",
      "Epoch 11/32\n",
      "409/409 [==============================] - 3s 7ms/step - loss: 14447764480.0000 - mse: 14447764480.0000 - val_loss: 12655759360.0000 - val_mse: 12655759360.0000\n",
      "Epoch 12/32\n",
      "409/409 [==============================] - 3s 7ms/step - loss: 12994155520.0000 - mse: 12994155520.0000 - val_loss: 11777219584.0000 - val_mse: 11777219584.0000\n",
      "Epoch 13/32\n",
      "409/409 [==============================] - 3s 6ms/step - loss: 12103492608.0000 - mse: 12103492608.0000 - val_loss: 11383189504.0000 - val_mse: 11383189504.0000\n",
      "Epoch 14/32\n",
      "409/409 [==============================] - 3s 8ms/step - loss: 11669690368.0000 - mse: 11669690368.0000 - val_loss: 11209542656.0000 - val_mse: 11209542656.0000\n",
      "Epoch 15/32\n",
      "409/409 [==============================] - 4s 9ms/step - loss: 11482636288.0000 - mse: 11482636288.0000 - val_loss: 11126438912.0000 - val_mse: 11126438912.0000\n",
      "Epoch 16/32\n",
      "409/409 [==============================] - 3s 7ms/step - loss: 11368656896.0000 - mse: 11368656896.0000 - val_loss: 11067406336.0000 - val_mse: 11067406336.0000\n",
      "Epoch 17/32\n",
      "409/409 [==============================] - 3s 8ms/step - loss: 11287788544.0000 - mse: 11287788544.0000 - val_loss: 11021082624.0000 - val_mse: 11021082624.0000\n",
      "Epoch 18/32\n",
      "409/409 [==============================] - 3s 7ms/step - loss: 11236158464.0000 - mse: 11236158464.0000 - val_loss: 10980561920.0000 - val_mse: 10980561920.0000\n",
      "Epoch 19/32\n",
      "409/409 [==============================] - 3s 8ms/step - loss: 11164462080.0000 - mse: 11164462080.0000 - val_loss: 10901035008.0000 - val_mse: 10901035008.0000\n",
      "Epoch 20/32\n",
      "409/409 [==============================] - 4s 9ms/step - loss: 11104989184.0000 - mse: 11104989184.0000 - val_loss: 10840767488.0000 - val_mse: 10840767488.0000\n",
      "Epoch 21/32\n",
      "409/409 [==============================] - 4s 9ms/step - loss: 11039876096.0000 - mse: 11039876096.0000 - val_loss: 10832405504.0000 - val_mse: 10832405504.0000\n",
      "Epoch 22/32\n",
      "409/409 [==============================] - 3s 7ms/step - loss: 10985643008.0000 - mse: 10985643008.0000 - val_loss: 10747252736.0000 - val_mse: 10747252736.0000\n",
      "Epoch 23/32\n",
      "409/409 [==============================] - 3s 8ms/step - loss: 10914734080.0000 - mse: 10914734080.0000 - val_loss: 10664849408.0000 - val_mse: 10664849408.0000\n",
      "Epoch 24/32\n",
      "409/409 [==============================] - 4s 9ms/step - loss: 10848894976.0000 - mse: 10848894976.0000 - val_loss: 10607348736.0000 - val_mse: 10607348736.0000\n",
      "Epoch 25/32\n",
      "409/409 [==============================] - 3s 7ms/step - loss: 10794435584.0000 - mse: 10794435584.0000 - val_loss: 10538426368.0000 - val_mse: 10538426368.0000\n",
      "Epoch 26/32\n",
      "409/409 [==============================] - 4s 8ms/step - loss: 10727408640.0000 - mse: 10727408640.0000 - val_loss: 10526098432.0000 - val_mse: 10526098432.0000\n",
      "Epoch 27/32\n",
      "409/409 [==============================] - 5s 11ms/step - loss: 10651729920.0000 - mse: 10651729920.0000 - val_loss: 10426863616.0000 - val_mse: 10426863616.0000\n",
      "Epoch 28/32\n",
      "409/409 [==============================] - 3s 7ms/step - loss: 10590610432.0000 - mse: 10590610432.0000 - val_loss: 10371732480.0000 - val_mse: 10371732480.0000\n",
      "Epoch 29/32\n",
      "409/409 [==============================] - 3s 7ms/step - loss: 10524331008.0000 - mse: 10524331008.0000 - val_loss: 10320122880.0000 - val_mse: 10320122880.0000\n",
      "Epoch 30/32\n",
      "409/409 [==============================] - 3s 6ms/step - loss: 10469453824.0000 - mse: 10469453824.0000 - val_loss: 10234255360.0000 - val_mse: 10234255360.0000\n",
      "Epoch 31/32\n",
      "409/409 [==============================] - 4s 10ms/step - loss: 10392510464.0000 - mse: 10392510464.0000 - val_loss: 10180078592.0000 - val_mse: 10180078592.0000\n",
      "Epoch 32/32\n",
      "409/409 [==============================] - 3s 6ms/step - loss: 10330075136.0000 - mse: 10330075136.0000 - val_loss: 10113841152.0000 - val_mse: 10113841152.0000\n"
     ]
    }
   ],
   "source": [
    "# Model create\n",
    "\n",
    "feature_layer = tf.keras.layers.DenseFeatures(feature_columns, dtype='float64')\n",
    "\n",
    "model = tf.keras.Sequential([\n",
    "  feature_layer,\n",
    "  layers.Dense(12, input_dim=8, activation='relu'),\n",
    "  layers.Dense(8, activation='relu'),\n",
    "  layers.Dense(1, activation='linear',  name='median_house_value')\n",
    "])\n",
    "\n",
    "# Model compile\n",
    "# TODO 2d\n",
    "# TODO -- Your code here.\n",
    "opt = keras.optimizers.Adam(learning_rate=0.001)\n",
    "model.compile(optimizer=opt,\n",
    "              loss='mse',\n",
    "              metrics=['mse'])\n",
    "\n",
    "# Model Fit\n",
    "history = model.fit(train_ds,\n",
    "                    validation_data=val_ds,\n",
    "                    epochs=32)  # Increase Epochs to 32"
   ]
  },
  {
   "cell_type": "markdown",
   "metadata": {},
   "source": [
    "**Lab Task #3:** Visualizing the loss curves"
   ]
  },
  {
   "cell_type": "code",
   "execution_count": 18,
   "metadata": {},
   "outputs": [
    {
     "data": {
      "image/png": "[encoded data removed]",
      "text/plain": [
       "<Figure size 720x360 with 2 Axes>"
      ]
     },
     "metadata": {
      "needs_background": "light"
     },
     "output_type": "display_data"
    }
   ],
   "source": [
    "# TODO 3\n",
    "# TODO -- Your code here.\n",
    "def plot_curves(history, metrics):\n",
    "    nrows = 1\n",
    "    ncols = 2\n",
    "# Using the `figure()` method we can create a new figure or activate an existing figure.\n",
    "    fig = plt.figure(figsize=(10, 5))\n",
    "\n",
    "    for idx, key in enumerate(metrics):  \n",
    "# Using the `add_subplot()` method we can add a subplot to the current figure.\n",
    "        ax = fig.add_subplot(nrows, ncols, idx+1)\n",
    "# The `plot()` is a versatile function and will take an arbitrary number of arguments. \n",
    "        plt.plot(history.history[key])\n",
    "        plt.plot(history.history['val_{}'.format(key)])\n",
    "        plt.title('model {}'.format(key))\n",
    "        plt.ylabel(key)\n",
    "        plt.xlabel('epoch')\n",
    "# Using the `legend()` method we can place a legend on the axes.\n",
    "        plt.legend(['train', 'validation'], loc='upper left');  \n",
    "\n",
    "plot_curves(history, ['loss', 'mse'])"
   ]
  },
  {
   "cell_type": "markdown",
   "metadata": {},
   "source": [
    "Copyright 2020 Google Inc.\n",
    "Licensed under the Apache License, Version 2.0 (the \"License\"); you may not use this file except in compliance with the License. You may obtain a copy of the License at\n",
    "http://www.apache.org/licenses/LICENSE-2.0\n",
    "Unless required by applicable law or agreed to in writing, software distributed under the License is distributed on an \"AS IS\" BASIS, WITHOUT WARRANTIES OR CONDITIONS OF ANY KIND, either express or implied. See the License for the specific language governing permissions and limitations under the License."
   ]
  },
  {
   "cell_type": "code",
   "execution_count": null,
   "metadata": {},
   "outputs": [],
   "source": []
  }
 ],
 "metadata": {
  "colab": {
   "collapsed_sections": [],
   "name": "learning_rate.ipynb",
   "provenance": [],
   "toc_visible": true
  },
  "environment": {
   "name": "tf2-gpu.2-5.m76",
   "type": "gcloud",
   "uri": "gcr.io/deeplearning-platform-release/tf2-gpu.2-5:m76"
  },
  "kernelspec": {
   "display_name": "Python 3",
   "language": "python",
   "name": "python3"
  },
  "language_info": {
   "codemirror_mode": {
    "name": "ipython",
    "version": 3
   },
   "file_extension": ".py",
   "mimetype": "text/x-python",
   "name": "python",
   "nbconvert_exporter": "python",
   "pygments_lexer": "ipython3",
   "version": "3.7.10"
  }
 },
 "nbformat": 4,
 "nbformat_minor": 4
}
